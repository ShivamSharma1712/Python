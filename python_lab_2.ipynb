{
 "cells": [
  {
   "cell_type": "code",
   "execution_count": 1,
   "metadata": {},
   "outputs": [
    {
     "name": "stdout",
     "output_type": "stream",
     "text": [
      "\n",
      "Entering details for record 1:\n",
      "\n",
      "Entering details for record 2:\n",
      "\n",
      "Database Records:\n",
      "Name                 Age   Subject        \n",
      "----------------------------------------\n",
      "Rahul                22    maths          \n",
      "Shubam               21    python         \n"
     ]
    }
   ],
   "source": [
    "# Q7. create database using tuple and list\n",
    "def create_database():\n",
    "    # List to store all records\n",
    "    database = []\n",
    "    \n",
    "    # Get the number of records to add\n",
    "    n = int(input(\"Enter the number of records: \"))\n",
    "    \n",
    "    # Loop to input records\n",
    "    for i in range(n):\n",
    "        print(f\"\\nEntering details for record {i + 1}:\")\n",
    "        name = input(\"Enter Name: \")\n",
    "        age = int(input(\"Enter Age: \"))\n",
    "        subject = input(\"Enter Subject: \")\n",
    "        \n",
    "        # Create a tuple for the record\n",
    "        record = (name, age, subject)\n",
    "        \n",
    "        # Add the tuple to the list\n",
    "        database.append(record)\n",
    "    \n",
    "    return database\n",
    "\n",
    "def display_database(database):\n",
    "    print(\"\\nDatabase Records:\")\n",
    "    print(f\"{'Name':<20} {'Age':<5} {'Subject':<15}\")\n",
    "    print(\"-\" * 40)\n",
    "    for record in database:\n",
    "        name, age, subject = record\n",
    "        print(f\"{name:<20} {age:<5} {subject:<15}\")\n",
    "\n",
    "# Main Program\n",
    "database = create_database()\n",
    "display_database(database)"
   ]
  },
  {
   "cell_type": "code",
   "execution_count": 4,
   "metadata": {},
   "outputs": [
    {
     "name": "stdout",
     "output_type": "stream",
     "text": [
      "Temperature Converter\n",
      "1. Convert Celsius to Fahrenheit\n",
      "2. Convert Fahrenheit to Celsius\n",
      "98.0°F is equal to 36.67°C.\n"
     ]
    }
   ],
   "source": [
    "# Q8. WAP to convert celsius_to_fahrenheit and vice versa\n",
    "def celsius_to_fahrenheit(celsius):\n",
    "    return (celsius * 9/5) + 32\n",
    "\n",
    "def fahrenheit_to_celsius(fahrenheit):\n",
    "    return (fahrenheit - 32) * 5/9\n",
    "\n",
    "def main():\n",
    "    print(\"Temperature Converter\")\n",
    "    print(\"1. Convert Celsius to Fahrenheit\")\n",
    "    print(\"2. Convert Fahrenheit to Celsius\")\n",
    "    \n",
    "    choice = int(input(\"Enter your choice (1 or 2): \"))\n",
    "    \n",
    "    if choice == 1:\n",
    "        celsius = float(input(\"Enter temperature in Celsius: \"))\n",
    "        fahrenheit = celsius_to_fahrenheit(celsius)\n",
    "        print(f\"{celsius}°C is equal to {fahrenheit:.2f}°F.\")\n",
    "    elif choice == 2:\n",
    "        fahrenheit = float(input(\"Enter temperature in Fahrenheit: \"))\n",
    "        celsius = fahrenheit_to_celsius(fahrenheit)\n",
    "        print(f\"{fahrenheit}°F is equal to {celsius:.2f}°C.\")\n",
    "    else:\n",
    "        print(\"Invalid choice. Please enter 1 or 2.\")\n",
    "\n",
    "# Run the program\n",
    "main()"
   ]
  },
  {
   "cell_type": "code",
   "execution_count": 8,
   "metadata": {},
   "outputs": [
    {
     "name": "stdout",
     "output_type": "stream",
     "text": [
      "3rd dec is today \n"
     ]
    }
   ],
   "source": [
    "##Q9.print all unique words in alphabatic order\n",
    "file=open(\"text\",\"r\")\n",
    "f=file.readlines()\n",
    "q=[]\n",
    "for i in f:\n",
    "    for j in i.split():\n",
    "        q.append(j)\n",
    "q.sort()        \n",
    "for i in q:\n",
    "    if q.count(i)==1:\n",
    "        print(i,end=\" \")\n",
    "print()\n",
    "file.close()"
   ]
  },
  {
   "cell_type": "code",
   "execution_count": 2,
   "metadata": {},
   "outputs": [
    {
     "name": "stdout",
     "output_type": "stream",
     "text": [
      "ID | NAME  | AGE  | SALARY  \n",
      "----------------------------\n",
      "1   | anish           | 18  | 450000\n"
     ]
    }
   ],
   "source": [
    "##Q10.write a program to implement an employee management system using class instance and inheritance\n",
    "class database:\n",
    "    def row1(self,id,name,age,salary):\n",
    "        self.data=[]\n",
    "        self.data.append((id,name,age,salary))\n",
    "    def display_data(self):\n",
    "        print(\"ID | NAME  | AGE  | SALARY  \")\n",
    "        print(\"----------------------------\")\n",
    "        for i in self.data:\n",
    "            print(f\"{i[0]:<3} | {i[1]:<15} | {i[2]:<3} | {i[3]}\")\n",
    "    def add_row(self,id,name,age,salary):\n",
    "        self.data.append((id,name,age,salary))\n",
    "    def delete_row(self,row):\n",
    "        self.pop(-row)\n",
    "d=database()\n",
    "d.row1(1,\"anish\",18,450000)\n",
    "d.display_data()\n"
   ]
  },
  {
   "cell_type": "code",
   "execution_count": 5,
   "metadata": {},
   "outputs": [],
   "source": [
    "##Q11 create a text file \"myfile\" in python to ask the user to write separate 3 lines with 3 input statement from the user\n",
    "file=open(\"myfile\",\"w\")\n",
    "n1=input(\"Enter the 1st statement\")\n",
    "n2=input(\"Enter the 2nd statement\")\n",
    "n3=input(\"Enter the 3rd statement\")\n",
    "file.write(n1+\"\\n\")\n",
    "file.write(n2+\"\\n\")\n",
    "file.write(n3+\"\\n\")\n",
    "file.close()"
   ]
  },
  {
   "cell_type": "code",
   "execution_count": 3,
   "metadata": {},
   "outputs": [
    {
     "name": "stdout",
     "output_type": "stream",
     "text": [
      "4.14578098794425\n",
      "not a right_angle\n"
     ]
    }
   ],
   "source": [
    "# Q12. WAP that accepts length of 3 sides of a triangle. the program should indicate whether or not the triangle is \n",
    "# right angeled triangle also find out its area using herons formula\n",
    "l = [3,3,5]\n",
    "def right_angle(l):\n",
    "    l.sort()\n",
    "    h=l[-1]\n",
    "    p=l[1]\n",
    "    b= l[0]\n",
    "    if(h**2)== ((p**2)+(b**2)):\n",
    "        s=(h+p+b)/2\n",
    "        area=(s*(s-h)*(s-p)*(s-b))**(1/2)\n",
    "        print(area)\n",
    "        print(\"right_angle\")\n",
    "    else:\n",
    "        s=(h+p+b)/2\n",
    "        area = (s*(s-h)*(s-p)*(s-b))**(1/2)\n",
    "        print(area)\n",
    "        print(\"not a right_angle\")\n",
    "\n",
    "right_angle(l)"
   ]
  },
  {
   "cell_type": "code",
   "execution_count": null,
   "metadata": {},
   "outputs": [],
   "source": []
  },
  {
   "cell_type": "code",
   "execution_count": null,
   "metadata": {},
   "outputs": [],
   "source": []
  },
  {
   "cell_type": "code",
   "execution_count": null,
   "metadata": {},
   "outputs": [],
   "source": []
  }
 ],
 "metadata": {
  "kernelspec": {
   "display_name": "Python 3",
   "language": "python",
   "name": "python3"
  },
  "language_info": {
   "codemirror_mode": {
    "name": "ipython",
    "version": 3
   },
   "file_extension": ".py",
   "mimetype": "text/x-python",
   "name": "python",
   "nbconvert_exporter": "python",
   "pygments_lexer": "ipython3",
   "version": "3.12.4"
  }
 },
 "nbformat": 4,
 "nbformat_minor": 2
}
