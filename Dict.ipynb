{
 "cells": [
  {
   "cell_type": "code",
   "execution_count": 2,
   "metadata": {},
   "outputs": [
    {
     "data": {
      "text/plain": [
       "dict"
      ]
     },
     "execution_count": 2,
     "metadata": {},
     "output_type": "execute_result"
    }
   ],
   "source": [
    "# Dict:- It is a pair of keys and values\n",
    "s={}\n",
    "type(s)"
   ]
  },
  {
   "cell_type": "code",
   "execution_count": 5,
   "metadata": {},
   "outputs": [
    {
     "name": "stdout",
     "output_type": "stream",
     "text": [
      "{'name': ['a', 'b', 'c'], 'age': [22, 25, 26]}\n",
      "{'name': ['a', 'b', 'c', 'd'], 'age': [22, 25, 26]}\n"
     ]
    }
   ],
   "source": [
    "# dict using list\n",
    "d = {\n",
    "    'name': ['a', 'b', 'c'],\n",
    "    'age': [22, 25, 26]\n",
    "}\n",
    "print(d)\n",
    "d.keys()\n",
    "d['name'][0]\n",
    "d['name'].append('d')\n",
    "print(d)"
   ]
  },
  {
   "cell_type": "code",
   "execution_count": 6,
   "metadata": {},
   "outputs": [
    {
     "name": "stdout",
     "output_type": "stream",
     "text": [
      "{'name': ('a', 'b', 'c'), 'age': (22, 25, 26)}\n"
     ]
    }
   ],
   "source": [
    "# dict using tuple\n",
    "d = {\n",
    "    'name': ('a', 'b', 'c'),\n",
    "    'age': (22, 25, 26)\n",
    "}\n",
    "print(d)\n",
    "# this will not append anything cause tuple is immutable"
   ]
  },
  {
   "cell_type": "code",
   "execution_count": 1,
   "metadata": {},
   "outputs": [
    {
     "ename": "SyntaxError",
     "evalue": "closing parenthesis ')' does not match opening parenthesis '[' (3547736153.py, line 3)",
     "output_type": "error",
     "traceback": [
      "\u001b[1;36m  Cell \u001b[1;32mIn[1], line 3\u001b[1;36m\u001b[0m\n\u001b[1;33m    Out [56]: ['id': [1001, 1982, 1003, 1004, 1005], 'location': ['Delhi', 'Noida\", \"Jaipur\", \"Pune\", \"Mumbai'I, 'Job': ['DS', 'analyst', 'HR', 'Manager'])\u001b[0m\n\u001b[1;37m                                                                                                                                                          ^\u001b[0m\n\u001b[1;31mSyntaxError\u001b[0m\u001b[1;31m:\u001b[0m closing parenthesis ')' does not match opening parenthesis '['\n"
     ]
    }
   ],
   "source": [
    "[56]: M\n",
    "\n",
    "Out [56]: ['id': [1001, 1982, 1003, 1004, 1005], 'location': ['Delhi', 'Noida\", \"Jaipur\", \"Pune\", \"Mumbai'I, 'Job': ['DS', 'analyst', 'HR', 'Manager'])"
   ]
  }
 ],
 "metadata": {
  "kernelspec": {
   "display_name": "Python 3",
   "language": "python",
   "name": "python3"
  },
  "language_info": {
   "codemirror_mode": {
    "name": "ipython",
    "version": 3
   },
   "file_extension": ".py",
   "mimetype": "text/x-python",
   "name": "python",
   "nbconvert_exporter": "python",
   "pygments_lexer": "ipython3",
   "version": "3.12.4"
  }
 },
 "nbformat": 4,
 "nbformat_minor": 2
}
