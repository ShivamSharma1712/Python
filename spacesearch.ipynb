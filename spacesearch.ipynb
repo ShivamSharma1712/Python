{
 "cells": [
  {
   "cell_type": "code",
   "execution_count": 1,
   "metadata": {},
   "outputs": [],
   "source": [
    "import csv"
   ]
  },
  {
   "cell_type": "code",
   "execution_count": 2,
   "metadata": {},
   "outputs": [],
   "source": [
    "file=open(\"space.csv\",\"w\")\n",
    "file.write(\"Sky, Temperature, Humidity, Wind, Water, Forecast,PlayTennis\\n\")\n",
    "file.write(\"Sunny, Warm, Normal, Strong, Warm, Same, Yes\\n\")\n",
    "file.write(\"Sunny, Warm, High, Strong, Warm, Same, Yes\\n\")\n",
    "file.write(\"Rainy, Cold, High, Strong, Warm, Change, No\\n\")\n",
    "file.write(\"Sunny, Warm, High, Strong, Cool, Change, Yes\\n\")\n",
    "file.close()"
   ]
  },
  {
   "cell_type": "code",
   "execution_count": 3,
   "metadata": {},
   "outputs": [
    {
     "name": "stdout",
     "output_type": "stream",
     "text": [
      "['Sky', ' Temperature', ' Humidity', ' Wind', ' Water', ' Forecast', 'PlayTennis']\n",
      "['Sunny', ' Warm', ' Normal', ' Strong', ' Warm', ' Same', ' Yes']\n",
      "['Sunny', ' Warm', ' High', ' Strong', ' Warm', ' Same', ' Yes']\n",
      "['Rainy', ' Cold', ' High', ' Strong', ' Warm', ' Change', ' No']\n",
      "['Sunny', ' Warm', ' High', ' Strong', ' Cool', ' Change', ' Yes']\n"
     ]
    }
   ],
   "source": [
    "file=open(\"space.csv\",\"r\")\n",
    "f=csv.reader(file,delimiter=\",\")\n",
    "l=list(f)\n",
    "for i in l:\n",
    "    print(i)\n",
    "file.close()"
   ]
  },
  {
   "cell_type": "code",
   "execution_count": 10,
   "metadata": {},
   "outputs": [
    {
     "ename": "ModuleNotFoundError",
     "evalue": "No module named 'google'",
     "output_type": "error",
     "traceback": [
      "\u001b[1;31m---------------------------------------------------------------------------\u001b[0m",
      "\u001b[1;31mModuleNotFoundError\u001b[0m                       Traceback (most recent call last)",
      "Cell \u001b[1;32mIn[10], line 1\u001b[0m\n\u001b[1;32m----> 1\u001b[0m \u001b[38;5;28;01mfrom\u001b[39;00m \u001b[38;5;21;01mgoogle\u001b[39;00m\u001b[38;5;21;01m.\u001b[39;00m\u001b[38;5;21;01mcolab\u001b[39;00m \u001b[38;5;28;01mimport\u001b[39;00m drive\n\u001b[0;32m      2\u001b[0m \u001b[38;5;28;01mimport\u001b[39;00m \u001b[38;5;21;01mpandas\u001b[39;00m \u001b[38;5;28;01mas\u001b[39;00m \u001b[38;5;21;01mpd\u001b[39;00m\n\u001b[0;32m      3\u001b[0m \u001b[38;5;28;01mimport\u001b[39;00m \u001b[38;5;21;01mnumpy\u001b[39;00m \u001b[38;5;28;01mas\u001b[39;00m \u001b[38;5;21;01mnp\u001b[39;00m\n",
      "\u001b[1;31mModuleNotFoundError\u001b[0m: No module named 'google'"
     ]
    }
   ],
   "source": [
    "from google.colab import drive\n",
    "import pandas as pd\n",
    "import numpy as np\n",
    "\n",
    "\n"
   ]
  },
  {
   "cell_type": "code",
   "execution_count": null,
   "metadata": {},
   "outputs": [],
   "source": [
    "import pandas as pd\n",
    "file_path = \"content/drive/ My Drive/space.csv\"\n",
    "df= pd.read_csv(\"C:\\Users\\hp\\OneDrive\\Documents\\PYTHON\")\n",
    "print(df.head())"
   ]
  },
  {
   "cell_type": "code",
   "execution_count": null,
   "metadata": {},
   "outputs": [],
   "source": []
  },
  {
   "cell_type": "code",
   "execution_count": null,
   "metadata": {},
   "outputs": [],
   "source": []
  },
  {
   "cell_type": "code",
   "execution_count": null,
   "metadata": {},
   "outputs": [],
   "source": []
  }
 ],
 "metadata": {
  "kernelspec": {
   "display_name": "Python 3",
   "language": "python",
   "name": "python3"
  },
  "language_info": {
   "codemirror_mode": {
    "name": "ipython",
    "version": 3
   },
   "file_extension": ".py",
   "mimetype": "text/x-python",
   "name": "python",
   "nbconvert_exporter": "python",
   "pygments_lexer": "ipython3",
   "version": "3.12.4"
  }
 },
 "nbformat": 4,
 "nbformat_minor": 2
}
