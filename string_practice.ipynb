{
 "cells": [
  {
   "cell_type": "code",
   "execution_count": 6,
   "metadata": {},
   "outputs": [
    {
     "name": "stdout",
     "output_type": "stream",
     "text": [
      "uoy era woh\n",
      "uoy era woh\n"
     ]
    }
   ],
   "source": [
    "# reverse of string using slicing:\n",
    "s = 'how are you'\n",
    "\n",
    "print(s[::-1])\n",
    "\n",
    "# print(s[-1:: -1])"
   ]
  },
  {
   "cell_type": "code",
   "execution_count": 9,
   "metadata": {},
   "outputs": [
    {
     "name": "stdout",
     "output_type": "stream",
     "text": [
      "uoy era woh"
     ]
    }
   ],
   "source": [
    "# reverse using reversed() and loop\n",
    "r= reversed(s)\n",
    "for i in r:\n",
    "    print(i, end='') # if you dont put end='' it will give string character by character"
   ]
  },
  {
   "cell_type": "code",
   "execution_count": 11,
   "metadata": {},
   "outputs": [
    {
     "name": "stdout",
     "output_type": "stream",
     "text": [
      "uoy era woh\n"
     ]
    }
   ],
   "source": [
    "# reverse using reversed() and join()\n",
    "r= reversed(s)\n",
    "j= ''.join(r) #if you dont put join() it will give string character by character\n",
    "print(j)"
   ]
  },
  {
   "cell_type": "code",
   "execution_count": 5,
   "metadata": {},
   "outputs": [
    {
     "name": "stdout",
     "output_type": "stream",
     "text": [
      "uoy era woh\n"
     ]
    }
   ],
   "source": [
    "#reverse the string using while loop\n",
    "s= 'how are you' \n",
    "e='' #empty string\n",
    "\n",
    "i=len(s)-1 # Start from the last character's index\n",
    "\n",
    "while i>=0:\n",
    "    e= e + s[i] #concatenate empty string e with string s\n",
    "    i=i-1\n",
    "print(e)\n",
    "\n",
    "\n"
   ]
  },
  {
   "cell_type": "code",
   "execution_count": 16,
   "metadata": {},
   "outputs": [
    {
     "name": "stdout",
     "output_type": "stream",
     "text": [
      "['you', 'are', 'how']\n",
      "you are how\n"
     ]
    }
   ],
   "source": [
    "# reverse the string order, eg how are you (to) you are how\n",
    "s1 = 'how are you'\n",
    "s2=s.split()\n",
    "s3=s2[::-1]\n",
    "print(s3)\n",
    "j=' '.join(s3) # remember to provide space inside single quotes\n",
    "print(j)"
   ]
  },
  {
   "cell_type": "code",
   "execution_count": 4,
   "metadata": {},
   "outputs": [
    {
     "name": "stdout",
     "output_type": "stream",
     "text": [
      "woh era uoy\n"
     ]
    }
   ],
   "source": [
    "# reverse internal word inside the string\n",
    "s1='how are you'\n",
    "s2= s1.split()\n",
    "l=[]\n",
    "for i in s2:\n",
    "    l.append(i[::-1])\n",
    "\n",
    "\n",
    "j=' '.join(l) # converting into string\n",
    "print(j)"
   ]
  },
  {
   "cell_type": "code",
   "execution_count": 2,
   "metadata": {},
   "outputs": [
    {
     "name": "stdout",
     "output_type": "stream",
     "text": [
      "['how', 'era', 'you', 'nohtyp']\n"
     ]
    }
   ],
   "source": [
    "# reverse word present at second index\n",
    "s1='how are you python'\n",
    "s2= s1.split()\n",
    "l=[]\n",
    "i=0\n",
    "while i<len(s2):\n",
    "    if i%2==0:\n",
    "        l.append(s2[i])\n",
    "    else:\n",
    "        l.append(s2[i][::-1])\n",
    "    i=i+1\n",
    "print(l)"
   ]
  },
  {
   "cell_type": "code",
   "execution_count": 8,
   "metadata": {},
   "outputs": [
    {
     "name": "stdout",
     "output_type": "stream",
     "text": [
      "characters at even index\n",
      "h\n",
      "w\n",
      "a\n",
      "e\n",
      "y\n",
      "u\n",
      "p\n",
      "t\n",
      "o\n",
      "characters at odd index\n",
      "o\n",
      " \n",
      "r\n",
      " \n",
      "o\n",
      " \n",
      "y\n",
      "h\n",
      "n\n"
     ]
    }
   ],
   "source": [
    "# print characters present at even index and odd index\n",
    "s1= 'how are you python'\n",
    "i=0\n",
    "print('characters at even index') \n",
    "while i<len(s1):\n",
    "    print(s1[i])\n",
    "    i=i+2\n",
    "\n",
    "i=1 # for printing odd start it from 1\n",
    "print('characters at odd index') \n",
    "while i<len(s1):\n",
    "    print(s1[i])\n",
    "    i=i+2"
   ]
  },
  {
   "cell_type": "code",
   "execution_count": 12,
   "metadata": {},
   "outputs": [
    {
     "name": "stdout",
     "output_type": "stream",
     "text": [
      "rtaevjia\n"
     ]
    }
   ],
   "source": [
    "# merge two strings into single string by taking characters alternatively, if two strings are of same length:\n",
    "s1='ravi'\n",
    "s2 = 'teja'\n",
    "s3=''\n",
    "i,j=0,0\n",
    "while i<len(s1) or j<len(s2):\n",
    "    s3 = s3 + s1[i] + s2[j]\n",
    "    i=i+1\n",
    "    j=j+1\n",
    "print(s3)"
   ]
  },
  {
   "cell_type": "code",
   "execution_count": 13,
   "metadata": {},
   "outputs": [
    {
     "name": "stdout",
     "output_type": "stream",
     "text": [
      "rkauvmiar\n"
     ]
    }
   ],
   "source": [
    "# merge two strings into sigle string by taking characters alternatively, if two strings are of different length:\n",
    "s1 = 'ravi'\n",
    "s2 = 'kumar'\n",
    "s3 = ''\n",
    "i, j = 0, 0\n",
    "\n",
    "while i < len(s1) or j < len(s2):\n",
    "    if i < len(s1):\n",
    "        s3 += s1[i]\n",
    "        i += 1\n",
    "    if j < len(s2):\n",
    "        s3 += s2[j]\n",
    "        j += 1\n",
    "\n",
    "print(s3)\n"
   ]
  },
  {
   "cell_type": "code",
   "execution_count": 4,
   "metadata": {},
   "outputs": [
    {
     "name": "stdout",
     "output_type": "stream",
     "text": [
      "[25, 222, 2]\n"
     ]
    }
   ],
   "source": [
    "list1 = [2, 33, 222, 14, 25]\n",
    "print(list1[::-2])\n"
   ]
  },
  {
   "cell_type": "code",
   "execution_count": null,
   "metadata": {},
   "outputs": [],
   "source": []
  },
  {
   "cell_type": "code",
   "execution_count": null,
   "metadata": {},
   "outputs": [],
   "source": []
  }
 ],
 "metadata": {
  "kernelspec": {
   "display_name": "Python 3",
   "language": "python",
   "name": "python3"
  },
  "language_info": {
   "codemirror_mode": {
    "name": "ipython",
    "version": 3
   },
   "file_extension": ".py",
   "mimetype": "text/x-python",
   "name": "python",
   "nbconvert_exporter": "python",
   "pygments_lexer": "ipython3",
   "version": "3.12.4"
  }
 },
 "nbformat": 4,
 "nbformat_minor": 2
}
