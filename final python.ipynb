{
 "cells": [
  {
   "cell_type": "code",
   "execution_count": 3,
   "metadata": {},
   "outputs": [
    {
     "name": "stdout",
     "output_type": "stream",
     "text": [
      "True\n"
     ]
    }
   ],
   "source": [
    "# Check if a string has at least one letter and one number\n",
    "string = \"abc123\"\n",
    "has_letter = False\n",
    "has_number = False\n",
    "\n",
    "for char in string:\n",
    "    if char.isalpha():  # Check if character is a letter\n",
    "        has_letter = True\n",
    "    if char.isdigit():  # Check if character is a number\n",
    "        has_number = True\n",
    "    if has_letter and has_number:  # Stop checking once both are found\n",
    "        break\n",
    "\n",
    "print(has_letter and has_number)\n",
    "# Output: True\n"
   ]
  },
  {
   "cell_type": "code",
   "execution_count": 4,
   "metadata": {},
   "outputs": [
    {
     "name": "stdout",
     "output_type": "stream",
     "text": [
      "True\n"
     ]
    }
   ],
   "source": [
    "# Accept the strings which contains all vowels\n",
    "text = \"education\"\n",
    "vowels = \"aeiou\"\n",
    "vowel_set = set()\n",
    "\n",
    "for ch in text.lower():\n",
    "    if ch in vowels:\n",
    "        vowel_set.add(ch)  # Add the vowel to the set\n",
    "\n",
    "all_vowels = len(vowel_set) == len(vowels)  # Check if all vowels are present\n",
    "print(all_vowels)\n",
    "# Output: True\n"
   ]
  },
  {
   "cell_type": "code",
   "execution_count": 5,
   "metadata": {},
   "outputs": [
    {
     "name": "stdout",
     "output_type": "stream",
     "text": [
      "helo wrd\n"
     ]
    }
   ],
   "source": [
    "# Remove all duplicates from a given string\n",
    "\n",
    "string = \"hello world\"\n",
    "result = \"\"\n",
    "\n",
    "for char in string:  # Go through each character\n",
    "    if char not in result:  # Check if the character is not already added\n",
    "        result += char  # Add the character to the result\n",
    "\n",
    "print(result)\n",
    "# Output: \"helo wrd\"\n"
   ]
  },
  {
   "cell_type": "code",
   "execution_count": null,
   "metadata": {},
   "outputs": [],
   "source": []
  },
  {
   "cell_type": "code",
   "execution_count": null,
   "metadata": {},
   "outputs": [],
   "source": []
  }
 ],
 "metadata": {
  "kernelspec": {
   "display_name": "Python 3",
   "language": "python",
   "name": "python3"
  },
  "language_info": {
   "codemirror_mode": {
    "name": "ipython",
    "version": 3
   },
   "file_extension": ".py",
   "mimetype": "text/x-python",
   "name": "python",
   "nbconvert_exporter": "python",
   "pygments_lexer": "ipython3",
   "version": "3.12.4"
  }
 },
 "nbformat": 4,
 "nbformat_minor": 2
}
