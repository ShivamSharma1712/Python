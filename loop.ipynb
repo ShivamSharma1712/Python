{
 "cells": [
  {
   "cell_type": "code",
   "execution_count": 1,
   "metadata": {},
   "outputs": [
    {
     "name": "stdout",
     "output_type": "stream",
     "text": [
      "6\n",
      "7\n",
      "8\n",
      "7\n",
      "8\n"
     ]
    }
   ],
   "source": [
    "#extract those elements which is more than 5\n",
    "w=[1,2,3,4,5,6,7,8,3,3,2,7,8,5]\n",
    "for j in w:\n",
    "    if j>5:\n",
    "        print(j)"
   ]
  },
  {
   "cell_type": "code",
   "execution_count": 4,
   "metadata": {},
   "outputs": [
    {
     "name": "stdout",
     "output_type": "stream",
     "text": [
      "1\n",
      "2\n",
      "3\n",
      "4\n",
      "5\n",
      "6\n"
     ]
    }
   ],
   "source": [
    "#Loop\n",
    "l=[1,2,3,4,5,6]\n",
    "#for variable in l:\n",
    "l=[1,2,3,4,5,6]\n",
    "for i in l:\n",
    "    print(i)"
   ]
  },
  {
   "cell_type": "code",
   "execution_count": 2,
   "metadata": {},
   "outputs": [
    {
     "name": "stdout",
     "output_type": "stream",
     "text": [
      "a\n",
      "b\n",
      "c\n",
      "d\n",
      "e\n"
     ]
    }
   ],
   "source": [
    "g=[\"a\",\"b\",\"c\",\"d\",\"e\"]\n",
    "for f in g:\n",
    "    print(f)"
   ]
  },
  {
   "cell_type": "code",
   "execution_count": 3,
   "metadata": {},
   "outputs": [
    {
     "name": "stdout",
     "output_type": "stream",
     "text": [
      "6\n",
      "7\n",
      "8\n",
      "7\n",
      "8\n"
     ]
    }
   ],
   "source": [
    "#extract those elements which is more than 5\n",
    "w=[1,2,3,4,5,6,7,8,3,3,2,7,8,5]\n",
    "for j in w:\n",
    "    if j>5:\n",
    "        print(j)"
   ]
  },
  {
   "cell_type": "code",
   "execution_count": 5,
   "metadata": {},
   "outputs": [
    {
     "name": "stdout",
     "output_type": "stream",
     "text": [
      "2\n",
      "4\n",
      "6\n",
      "8\n",
      "2\n",
      "8\n"
     ]
    }
   ],
   "source": [
    "#extract even elements\n",
    "w=[1,2,3,4,5,6,7,8,3,3,2,7,8,5]\n",
    "for j in w:\n",
    "    if j%2==0:\n",
    "        print(j)"
   ]
  },
  {
   "cell_type": "code",
   "execution_count": 8,
   "metadata": {},
   "outputs": [
    {
     "name": "stdout",
     "output_type": "stream",
     "text": [
      "1\n",
      "2\n",
      "3\n",
      "3\n",
      "3\n",
      "2\n"
     ]
    }
   ],
   "source": [
    "w=[1,2,3,4,5,6,7,8,3,3,2,7,8,5]\n",
    "for j in w:\n",
    "    if j<=3 and j<=7:\n",
    "        print(j)"
   ]
  },
  {
   "cell_type": "code",
   "execution_count": 9,
   "metadata": {},
   "outputs": [
    {
     "name": "stdout",
     "output_type": "stream",
     "text": [
      "4\n",
      "16\n",
      "36\n",
      "64\n",
      "4\n",
      "64\n"
     ]
    }
   ],
   "source": [
    "w=[1,2,3,4,5,6,7,8,3,3,2,7,8,5]\n",
    "for j in w:\n",
    "    if j%2==0:\n",
    "        print(j**2)"
   ]
  },
  {
   "cell_type": "code",
   "execution_count": null,
   "metadata": {},
   "outputs": [],
   "source": []
  },
  {
   "cell_type": "code",
   "execution_count": 10,
   "metadata": {},
   "outputs": [
    {
     "name": "stdout",
     "output_type": "stream",
     "text": [
      "abishek\n",
      "aman\n",
      "aashta\n"
     ]
    }
   ],
   "source": [
    "#print those names start with a\n",
    "name=[\"rohan\",\"abishek\",\"robin\",\"karan\",\"aman\",\"pankaj\",\"aashta\"]\n",
    "for h in name:\n",
    "    if h[0]==\"a\":\n",
    "        print(h)"
   ]
  },
  {
   "cell_type": "code",
   "execution_count": 11,
   "metadata": {},
   "outputs": [
    {
     "name": "stdout",
     "output_type": "stream",
     "text": [
      "roha\n",
      "abis\n",
      "robi\n",
      "kara\n",
      "aman\n",
      "pank\n",
      "aash\n"
     ]
    }
   ],
   "source": [
    "#print those names start with a\n",
    "name=[\"rohan\",\"abishek\",\"robin\",\"karan\",\"aman\",\"pankaj\",\"aashta\"]\n",
    "for h in name:\n",
    "    print(h[:4])"
   ]
  },
  {
   "cell_type": "code",
   "execution_count": 12,
   "metadata": {},
   "outputs": [
    {
     "name": "stdout",
     "output_type": "stream",
     "text": [
      "2000\n",
      "2004\n",
      "2008\n"
     ]
    }
   ],
   "source": [
    "#print all leap years\n",
    "year=(2000,2001,2002,2003,2004,2005,2006,2007,2008,2009,2010)\n",
    "for i in year:\n",
    "    if i%4==0 and i%100!=0 or i%400==0:\n",
    "        print(i)"
   ]
  },
  {
   "cell_type": "code",
   "execution_count": 14,
   "metadata": {},
   "outputs": [
    {
     "data": {
      "text/plain": [
       "3"
      ]
     },
     "execution_count": 14,
     "metadata": {},
     "output_type": "execute_result"
    }
   ],
   "source": [
    "s=[4,7,8,5,2,3,5,6,8,9,2]\n",
    "s.sort()\n",
    "s[2]"
   ]
  }
 ],
 "metadata": {
  "kernelspec": {
   "display_name": "Python 3",
   "language": "python",
   "name": "python3"
  },
  "language_info": {
   "codemirror_mode": {
    "name": "ipython",
    "version": 3
   },
   "file_extension": ".py",
   "mimetype": "text/x-python",
   "name": "python",
   "nbconvert_exporter": "python",
   "pygments_lexer": "ipython3",
   "version": "3.12.4"
  }
 },
 "nbformat": 4,
 "nbformat_minor": 2
}
