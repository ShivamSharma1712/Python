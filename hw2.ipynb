{
 "cells": [
  {
   "cell_type": "code",
   "execution_count": 1,
   "metadata": {},
   "outputs": [
    {
     "name": "stdout",
     "output_type": "stream",
     "text": [
      "4.14578098794425\n",
      "not a right_angle\n"
     ]
    }
   ],
   "source": [
    "# WAP that accepts length of 3 sides of a triangle. the program should indicate whether or not the triangle is \n",
    "# right angeled triangle also find out its area using herons formula\n",
    "l = [3,3,5]\n",
    "def right_angle(l):\n",
    "    l.sort()\n",
    "    h=l[-1]\n",
    "    p=l[1]\n",
    "    b= l[0]\n",
    "    if(h**2)== ((p**2)+(b**2)):\n",
    "        s=(h+p+b)/2\n",
    "        area=(s*(s-h)*(s-p)*(s-b))**(1/2)\n",
    "        print(area)\n",
    "        print(\"right_angle\")\n",
    "    else:\n",
    "        s=(h+p+b)/2\n",
    "        area = (s*(s-h)*(s-p)*(s-b))**(1/2)\n",
    "        print(area)\n",
    "        print(\"not a right_angle\")\n",
    "\n",
    "right_angle(l)"
   ]
  },
  {
   "cell_type": "code",
   "execution_count": 2,
   "metadata": {},
   "outputs": [
    {
     "name": "stdout",
     "output_type": "stream",
     "text": [
      "aegnor\n"
     ]
    }
   ],
   "source": [
    "o=\"orange\"\n",
    "g = ''\n",
    "for i in sorted(o):\n",
    "    g+=i\n",
    "print(g)\n",
    "\n",
    "\n"
   ]
  },
  {
   "cell_type": "code",
   "execution_count": null,
   "metadata": {},
   "outputs": [],
   "source": [
    "file = open(\"text\", \"r\")\n",
    "lines = file.readlines() \n"
   ]
  },
  {
   "cell_type": "code",
   "execution_count": 5,
   "metadata": {},
   "outputs": [
    {
     "name": "stdout",
     "output_type": "stream",
     "text": [
      "w+ stand for write and read where we can write and read at the same time\n",
      "1st we need to write and then use file.read() to print the file\n",
      "\n"
     ]
    }
   ],
   "source": [
    "# delete the last row and update the file\n",
    "with open('xyz', 'w+') as file:\n",
    "    file.write('w+ stand for write and read where we can write and read at the same time\\n')\n",
    "    file.write('1st we need to write and then use file.read() to print the file\\n')\n",
    "    file.seek(0)\n",
    "    print(file.read())"
   ]
  },
  {
   "cell_type": "code",
   "execution_count": null,
   "metadata": {},
   "outputs": [],
   "source": []
  }
 ],
 "metadata": {
  "kernelspec": {
   "display_name": "Python 3",
   "language": "python",
   "name": "python3"
  },
  "language_info": {
   "codemirror_mode": {
    "name": "ipython",
    "version": 3
   },
   "file_extension": ".py",
   "mimetype": "text/x-python",
   "name": "python",
   "nbconvert_exporter": "python",
   "pygments_lexer": "ipython3",
   "version": "3.12.4"
  }
 },
 "nbformat": 4,
 "nbformat_minor": 2
}
