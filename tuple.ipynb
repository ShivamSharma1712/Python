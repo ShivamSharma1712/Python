{
 "cells": [
  {
   "cell_type": "code",
   "execution_count": 1,
   "metadata": {},
   "outputs": [
    {
     "name": "stdout",
     "output_type": "stream",
     "text": [
      "(1, 2, 3, 4, 5, 'string', True)\n"
     ]
    }
   ],
   "source": [
    "e=(1,2,3,4,5,\"string\",True)\n",
    "print(e)"
   ]
  },
  {
   "cell_type": "code",
   "execution_count": 6,
   "metadata": {},
   "outputs": [
    {
     "data": {
      "text/plain": [
       "3"
      ]
     },
     "execution_count": 6,
     "metadata": {},
     "output_type": "execute_result"
    }
   ],
   "source": [
    "e=(1,2,3,4,5,5,5,\"string\",True)\n",
    "e.count(5)"
   ]
  },
  {
   "cell_type": "code",
   "execution_count": 7,
   "metadata": {},
   "outputs": [
    {
     "data": {
      "text/plain": [
       "5"
      ]
     },
     "execution_count": 7,
     "metadata": {},
     "output_type": "execute_result"
    }
   ],
   "source": [
    "e=(1,2,3,4,5,\"string\",True)\n",
    "e.index(\"string\")"
   ]
  },
  {
   "cell_type": "code",
   "execution_count": 8,
   "metadata": {},
   "outputs": [
    {
     "data": {
      "text/plain": [
       "set"
      ]
     },
     "execution_count": 8,
     "metadata": {},
     "output_type": "execute_result"
    }
   ],
   "source": [
    "s= set()\n",
    "type(s)"
   ]
  },
  {
   "cell_type": "code",
   "execution_count": 9,
   "metadata": {},
   "outputs": [
    {
     "name": "stdout",
     "output_type": "stream",
     "text": [
      "{3, 4, 5, 6, 7}\n"
     ]
    },
    {
     "data": {
      "text/plain": [
       "set"
      ]
     },
     "execution_count": 9,
     "metadata": {},
     "output_type": "execute_result"
    }
   ],
   "source": [
    "s={3,4,5,6,7}\n",
    "print(s)\n",
    "type(s)"
   ]
  },
  {
   "cell_type": "code",
   "execution_count": null,
   "metadata": {},
   "outputs": [],
   "source": [
    "# functions of set\n",
    "# s.difference\n",
    "# s.intersection\n",
    "# s.pop\n",
    "# s.symmetric_difference"
   ]
  },
  {
   "cell_type": "code",
   "execution_count": 13,
   "metadata": {},
   "outputs": [
    {
     "name": "stdout",
     "output_type": "stream",
     "text": [
      "Difference between q and q2: {1, 2, 3, 7, 600}\n",
      "Intersection of q and q2: {500, 4, 5, 6}\n",
      "Union of q and q2: {1, 2, 3, 4, 5, 6, 7, 33, 9, 11, 44, 500, 22, 600}\n",
      "Updated set q: {1, 2, 3, 4, 5, 6, 7, 33, 9, 11, 44, 500, 22, 600}\n"
     ]
    }
   ],
   "source": [
    "q = {1, 2, 3, 4, 5, 6, 7, 500, 600}\n",
    "q2 = {11, 22, 33, 44, 4, 5, 6, 9, 500}\n",
    "\n",
    "difference_set = q.difference(q2) # \n",
    "print(\"Difference between q and q2:\", difference_set)\n",
    "\n",
    "intersection_set = q.intersection(q2) # common\n",
    "print(\"Intersection of q and q2:\", intersection_set)\n",
    "\n",
    "union_set = q.union(q2)\n",
    "print(\"Union of q and q2:\", union_set)\n",
    "q.update(q2)\n",
    "print(\"Updated set q:\", q)"
   ]
  },
  {
   "cell_type": "code",
   "execution_count": 14,
   "metadata": {},
   "outputs": [
    {
     "name": "stdout",
     "output_type": "stream",
     "text": [
      "After discarding 3: {1, 2, 4, 5}\n",
      "After discarding 10: {1, 2, 4, 5}\n",
      "After removing 3: {1, 2, 4, 5}\n"
     ]
    },
    {
     "ename": "KeyError",
     "evalue": "10",
     "output_type": "error",
     "traceback": [
      "\u001b[1;31m---------------------------------------------------------------------------\u001b[0m",
      "\u001b[1;31mKeyError\u001b[0m                                  Traceback (most recent call last)",
      "Cell \u001b[1;32mIn[14], line 12\u001b[0m\n\u001b[0;32m      9\u001b[0m q\u001b[38;5;241m.\u001b[39mremove(\u001b[38;5;241m3\u001b[39m)  \u001b[38;5;66;03m# Element 3 is present\u001b[39;00m\n\u001b[0;32m     10\u001b[0m \u001b[38;5;28mprint\u001b[39m(\u001b[38;5;124m\"\u001b[39m\u001b[38;5;124mAfter removing 3:\u001b[39m\u001b[38;5;124m\"\u001b[39m, q)\n\u001b[1;32m---> 12\u001b[0m \u001b[43mq\u001b[49m\u001b[38;5;241;43m.\u001b[39;49m\u001b[43mremove\u001b[49m\u001b[43m(\u001b[49m\u001b[38;5;241;43m10\u001b[39;49m\u001b[43m)\u001b[49m  \u001b[38;5;66;03m# Element 10 is not present, raises KeyError\u001b[39;00m\n",
      "\u001b[1;31mKeyError\u001b[0m: 10"
     ]
    }
   ],
   "source": [
    "q = {1, 2, 3, 4, 5}\n",
    "q.discard(3)  # Element 3 is present\n",
    "print(\"After discarding 3:\", q)\n",
    "\n",
    "q.discard(10)  # Element 10 is not present, no error\n",
    "print(\"After discarding 10:\", q)\n",
    "\n",
    "q = {1, 2, 3, 4, 5}\n",
    "q.remove(3)  # Element 3 is present\n",
    "print(\"After removing 3:\", q)\n",
    "\n",
    "q.remove(10)  # Element 10 is not present, raises KeyError"
   ]
  }
 ],
 "metadata": {
  "kernelspec": {
   "display_name": "Python 3",
   "language": "python",
   "name": "python3"
  },
  "language_info": {
   "codemirror_mode": {
    "name": "ipython",
    "version": 3
   },
   "file_extension": ".py",
   "mimetype": "text/x-python",
   "name": "python",
   "nbconvert_exporter": "python",
   "pygments_lexer": "ipython3",
   "version": "3.12.4"
  }
 },
 "nbformat": 4,
 "nbformat_minor": 2
}
