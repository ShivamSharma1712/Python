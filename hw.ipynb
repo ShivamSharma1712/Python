{
 "cells": [
  {
   "cell_type": "code",
   "execution_count": 15,
   "metadata": {},
   "outputs": [],
   "source": [
    "file = open(\"text\", \"w\")\n",
    "file.write(\"Data science is important because it combines tools, methods, and technology to generate\\n\")\n",
    "file.write(\"meaning from data .Modern organizations are inundated with data;\\n\")\n",
    "file.write(\"there is a profliferation of devices that can automatically collect and store information\\n \")\n",
    "file.write(\"\"\"Online systems and payment portals capture more data in the fields of e-commerce, medicine, finance,\\n\"\"\")\n",
    "file.write(\"\"\" and every other aspect of human life, we have text, audio, video, and image data available in vast quantities\\n\"\"\")\n",
    "file.close()"
   ]
  },
  {
   "cell_type": "code",
   "execution_count": 16,
   "metadata": {},
   "outputs": [],
   "source": [
    "# add line at start of line in uppercase\n",
    "\n",
    "file = open(\"text\", \"r\")\n",
    "lines = file.readlines()\n",
    "file.close()\n",
    "\n",
    "\n",
    "for i in range(len(lines)):\n",
    "    lines[i] = str(i + 1) + \" \" + lines[i]\n",
    "\n",
    "\n",
    "file = open(\"text\", \"w\")\n",
    "file.writelines(lines)\n",
    "file.close()\n",
    "\n",
    "\n"
   ]
  },
  {
   "cell_type": "code",
   "execution_count": 13,
   "metadata": {},
   "outputs": [],
   "source": [
    "# convert 1st letter of each line in uppercase\n",
    "\n",
    "file = open(\"text\", \"r\")\n",
    "lines = file.readlines()\n",
    "file.close()\n",
    "\n",
    "\n",
    "for i in range(len(lines)):\n",
    "    lines[i] = lines[i].capitalize()\n",
    "\n",
    "\n",
    "file = open(\"text\", \"w\")\n",
    "file.writelines(lines)\n",
    "file.close()\n"
   ]
  },
  {
   "cell_type": "code",
   "execution_count": 37,
   "metadata": {},
   "outputs": [],
   "source": [
    "with open('text', 'w') as file:\n",
    "    file.write('today is 3rd dec')\n",
    "file.close()"
   ]
  },
  {
   "cell_type": "code",
   "execution_count": 10,
   "metadata": {},
   "outputs": [
    {
     "name": "stdout",
     "output_type": "stream",
     "text": [
      "today is 3rd dec\n"
     ]
    }
   ],
   "source": [
    "with open('text', 'r') as file:\n",
    "    print(file.read())\n",
    "file.close()"
   ]
  },
  {
   "cell_type": "code",
   "execution_count": 9,
   "metadata": {},
   "outputs": [
    {
     "name": "stdout",
     "output_type": "stream",
     "text": [
      "today\n",
      "is\n",
      "3rd\n",
      "dec\n"
     ]
    }
   ],
   "source": [
    "with open(\"text\", \"r\") as file:\n",
    "    f=file.readlines()\n",
    "    for i in f:\n",
    "        for j in i.split():\n",
    "            print(j)\n",
    "file.close()"
   ]
  },
  {
   "cell_type": "code",
   "execution_count": 36,
   "metadata": {},
   "outputs": [
    {
     "ename": "PermissionError",
     "evalue": "[Errno 13] Permission denied: 'file.csv'",
     "output_type": "error",
     "traceback": [
      "\u001b[1;31m---------------------------------------------------------------------------\u001b[0m",
      "\u001b[1;31mPermissionError\u001b[0m                           Traceback (most recent call last)",
      "Cell \u001b[1;32mIn[36], line 2\u001b[0m\n\u001b[0;32m      1\u001b[0m \u001b[38;5;28;01mimport\u001b[39;00m \u001b[38;5;21;01mcsv\u001b[39;00m\n\u001b[1;32m----> 2\u001b[0m file \u001b[38;5;241m=\u001b[39m \u001b[38;5;28;43mopen\u001b[39;49m\u001b[43m(\u001b[49m\u001b[38;5;124;43m\"\u001b[39;49m\u001b[38;5;124;43mfile.csv\u001b[39;49m\u001b[38;5;124;43m\"\u001b[39;49m\u001b[43m,\u001b[49m\u001b[43m \u001b[49m\u001b[38;5;124;43m\"\u001b[39;49m\u001b[38;5;124;43mw\u001b[39;49m\u001b[38;5;124;43m\"\u001b[39;49m\u001b[43m)\u001b[49m\n\u001b[0;32m      3\u001b[0m file\u001b[38;5;241m.\u001b[39mwrite(\u001b[38;5;124m\"\u001b[39m\u001b[38;5;124m1, 25000, 6\u001b[39m\u001b[38;5;130;01m\\n\u001b[39;00m\u001b[38;5;124m\"\u001b[39m)\n\u001b[0;32m      4\u001b[0m file\u001b[38;5;241m.\u001b[39mwrite(\u001b[38;5;124m\"\u001b[39m\u001b[38;5;124m2, 78000, 8\u001b[39m\u001b[38;5;130;01m\\n\u001b[39;00m\u001b[38;5;124m\"\u001b[39m)\n",
      "File \u001b[1;32m~\\AppData\\Roaming\\Python\\Python312\\site-packages\\IPython\\core\\interactiveshell.py:324\u001b[0m, in \u001b[0;36m_modified_open\u001b[1;34m(file, *args, **kwargs)\u001b[0m\n\u001b[0;32m    317\u001b[0m \u001b[38;5;28;01mif\u001b[39;00m file \u001b[38;5;129;01min\u001b[39;00m {\u001b[38;5;241m0\u001b[39m, \u001b[38;5;241m1\u001b[39m, \u001b[38;5;241m2\u001b[39m}:\n\u001b[0;32m    318\u001b[0m     \u001b[38;5;28;01mraise\u001b[39;00m \u001b[38;5;167;01mValueError\u001b[39;00m(\n\u001b[0;32m    319\u001b[0m         \u001b[38;5;124mf\u001b[39m\u001b[38;5;124m\"\u001b[39m\u001b[38;5;124mIPython won\u001b[39m\u001b[38;5;124m'\u001b[39m\u001b[38;5;124mt let you open fd=\u001b[39m\u001b[38;5;132;01m{\u001b[39;00mfile\u001b[38;5;132;01m}\u001b[39;00m\u001b[38;5;124m by default \u001b[39m\u001b[38;5;124m\"\u001b[39m\n\u001b[0;32m    320\u001b[0m         \u001b[38;5;124m\"\u001b[39m\u001b[38;5;124mas it is likely to crash IPython. If you know what you are doing, \u001b[39m\u001b[38;5;124m\"\u001b[39m\n\u001b[0;32m    321\u001b[0m         \u001b[38;5;124m\"\u001b[39m\u001b[38;5;124myou can use builtins\u001b[39m\u001b[38;5;124m'\u001b[39m\u001b[38;5;124m open.\u001b[39m\u001b[38;5;124m\"\u001b[39m\n\u001b[0;32m    322\u001b[0m     )\n\u001b[1;32m--> 324\u001b[0m \u001b[38;5;28;01mreturn\u001b[39;00m \u001b[43mio_open\u001b[49m\u001b[43m(\u001b[49m\u001b[43mfile\u001b[49m\u001b[43m,\u001b[49m\u001b[43m \u001b[49m\u001b[38;5;241;43m*\u001b[39;49m\u001b[43margs\u001b[49m\u001b[43m,\u001b[49m\u001b[43m \u001b[49m\u001b[38;5;241;43m*\u001b[39;49m\u001b[38;5;241;43m*\u001b[39;49m\u001b[43mkwargs\u001b[49m\u001b[43m)\u001b[49m\n",
      "\u001b[1;31mPermissionError\u001b[0m: [Errno 13] Permission denied: 'file.csv'"
     ]
    }
   ],
   "source": [
    "import csv\n",
    "file = open(\"file.csv\", \"w\")\n",
    "file.write(\"1, 25000, 6\\n\")\n",
    "file.write(\"2, 78000, 8\\n\")\n",
    "file.write(\"3, 14500, 10\\n\")\n",
    "file.write(\"4, 79000, 2\\n\")\n",
    "file.close()"
   ]
  },
  {
   "cell_type": "code",
   "execution_count": 18,
   "metadata": {},
   "outputs": [
    {
     "name": "stdout",
     "output_type": "stream",
     "text": [
      "1, 25000, 6\n",
      "2, 78000, 8\n",
      "3, 14500, 10\n",
      "4, 79000, 2\n",
      "\n"
     ]
    }
   ],
   "source": [
    "file = open(\"file.csv\", \"r\")\n",
    "print(file.read())\n",
    "file.close()"
   ]
  },
  {
   "cell_type": "code",
   "execution_count": 19,
   "metadata": {},
   "outputs": [
    {
     "name": "stdout",
     "output_type": "stream",
     "text": [
      "[['1', ' 25000', ' 6'], ['2', ' 78000', ' 8'], ['3', ' 14500', ' 10'], ['4', ' 79000', ' 2']]\n"
     ]
    }
   ],
   "source": [
    "file = open(\"file.csv\", \"r\")\n",
    "f= csv.reader(file,delimiter=\",\")\n",
    "l= list(f)\n",
    "print(l)"
   ]
  },
  {
   "cell_type": "code",
   "execution_count": 22,
   "metadata": {},
   "outputs": [
    {
     "name": "stdout",
     "output_type": "stream",
     "text": [
      "[['1', ' 25000', ' 6'], ['2', ' 78000', ' 8'], ['3', ' 14500', ' 10'], ['4', ' 79000', ' 2']]\n",
      "[['1', ' 25000', ' 6'], ['2', ' 78000', ' 8'], ['3', ' 14500', ' 10'], ['4', ' 79000', ' 2']]\n",
      "[['1', ' 25000', ' 6'], ['2', ' 78000', ' 8'], ['3', ' 14500', ' 10'], ['4', ' 79000', ' 2']]\n",
      "[['1', ' 25000', ' 6'], ['2', ' 78000', ' 8'], ['3', ' 14500', ' 10'], ['4', ' 79000', ' 2']]\n"
     ]
    }
   ],
   "source": [
    "file = open(\"file.csv\", \"r\")\n",
    "f= csv.reader(file,delimiter=\",\")\n",
    "l= list(f)\n",
    "for i in l:\n",
    "    print(l)\n",
    "file.close()"
   ]
  },
  {
   "cell_type": "code",
   "execution_count": 23,
   "metadata": {},
   "outputs": [
    {
     "name": "stdout",
     "output_type": "stream",
     "text": [
      " 6\n",
      " 8\n",
      " 10\n",
      " 2\n"
     ]
    }
   ],
   "source": [
    "file = open(\"file.csv\", \"r\")\n",
    "f= csv.reader(file,delimiter=\",\")\n",
    "l= list(f)\n",
    "for i in l:\n",
    "    print(i[2])\n",
    "file.close()\n"
   ]
  },
  {
   "cell_type": "code",
   "execution_count": 25,
   "metadata": {},
   "outputs": [
    {
     "name": "stdout",
     "output_type": "stream",
     "text": [
      "['1', ' 25000', ' 6']\n",
      "['2', ' 78000', ' 8']\n",
      "['3', ' 14500', ' 10']\n",
      "['1', ' 25000', ' 6']\n",
      "['2', ' 78000', ' 8']\n",
      "['3', ' 14500', ' 10']\n",
      "['1', ' 25000', ' 6']\n",
      "['2', ' 78000', ' 8']\n",
      "['3', ' 14500', ' 10']\n",
      "['1', ' 25000', ' 6']\n",
      "['2', ' 78000', ' 8']\n",
      "['3', ' 14500', ' 10']\n"
     ]
    }
   ],
   "source": [
    "file = open(\"file.csv\", \"r\")\n",
    "f= csv.reader(file,delimiter=\",\")\n",
    "l= list(f)\n",
    "for i in l:\n",
    "    print(l[0])\n",
    "    print(l[1])\n",
    "    print(l[2])\n",
    "file.close()"
   ]
  },
  {
   "cell_type": "code",
   "execution_count": null,
   "metadata": {},
   "outputs": [
    {
     "name": "stdout",
     "output_type": "stream",
     "text": [
      "150000\n",
      "624000\n",
      "145000\n",
      "158000\n"
     ]
    }
   ],
   "source": [
    "file = open(\"file.csv\", \"r\")\n",
    "f= csv.reader(file,delimiter=\",\")\n",
    "l= list(f)\n",
    "for i in l:\n",
    "    print(int(i[1])* int(i[2]))\n",
    "   \n",
    "file.close()"
   ]
  },
  {
   "cell_type": "code",
   "execution_count": null,
   "metadata": {},
   "outputs": [
    {
     "name": "stdout",
     "output_type": "stream",
     "text": [
      "150000\n",
      "['1', ' 25000', ' 6', 'None']\n",
      "624000\n",
      "['2', ' 78000', ' 8', 'None']\n",
      "145000\n",
      "['3', ' 14500', ' 10', 'None']\n",
      "158000\n",
      "['4', ' 79000', ' 2', 'None']\n"
     ]
    }
   ],
   "source": [
    "file = open(\"file.csv\", \"r\")\n",
    "f= csv.reader(file,delimiter=\",\")\n",
    "l= list(f)\n",
    "for i in l:\n",
    "    a = print(int(i[1])* int(i[2]))\n",
    "    i.append(str(a))\n",
    "    print(i)\n",
    "file.close()\n",
    "   \n"
   ]
  },
  {
   "cell_type": "code",
   "execution_count": null,
   "metadata": {},
   "outputs": [],
   "source": [
    "# update overall file\n",
    "file = open(\"file.csv\", \"r\")\n",
    "f= csv.reader(file, delimiter=',')\n",
    "l=list(f)\n",
    "l[2]=['10', '9500', '5']\n",
    "file=open('up.csv', 'w')\n",
    "for i in l:\n",
    "   q=\",\".join(i)+'\\n'\n",
    "   file.write(q)\n",
    "       \n",
    "\n",
    "file.close()"
   ]
  },
  {
   "cell_type": "code",
   "execution_count": null,
   "metadata": {},
   "outputs": [],
   "source": [
    "file = open(\"file.csv\", \"r\")\n",
    "f= csv.reader(file, delimiter=',')\n",
    "l=list(f)\n",
    "l[2].pop()\n",
    "print(3)\n",
    "file.close()"
   ]
  },
  {
   "cell_type": "code",
   "execution_count": 2,
   "metadata": {},
   "outputs": [
    {
     "ename": "NameError",
     "evalue": "name 'csv' is not defined",
     "output_type": "error",
     "traceback": [
      "\u001b[1;31m---------------------------------------------------------------------------\u001b[0m",
      "\u001b[1;31mNameError\u001b[0m                                 Traceback (most recent call last)",
      "Cell \u001b[1;32mIn[2], line 3\u001b[0m\n\u001b[0;32m      1\u001b[0m \u001b[38;5;66;03m# update overall file\u001b[39;00m\n\u001b[0;32m      2\u001b[0m file \u001b[38;5;241m=\u001b[39m \u001b[38;5;28mopen\u001b[39m(\u001b[38;5;124m\"\u001b[39m\u001b[38;5;124mfile.csv\u001b[39m\u001b[38;5;124m\"\u001b[39m, \u001b[38;5;124m\"\u001b[39m\u001b[38;5;124mr\u001b[39m\u001b[38;5;124m\"\u001b[39m)\n\u001b[1;32m----> 3\u001b[0m f\u001b[38;5;241m=\u001b[39m \u001b[43mcsv\u001b[49m\u001b[38;5;241m.\u001b[39mreader(file, delimiter\u001b[38;5;241m=\u001b[39m\u001b[38;5;124m'\u001b[39m\u001b[38;5;124m,\u001b[39m\u001b[38;5;124m'\u001b[39m)\n\u001b[0;32m      4\u001b[0m l\u001b[38;5;241m=\u001b[39m\u001b[38;5;28mlist\u001b[39m(f)\n\u001b[0;32m      5\u001b[0m l[\u001b[38;5;241m2\u001b[39m]\u001b[38;5;241m=\u001b[39m[\u001b[38;5;124m'\u001b[39m\u001b[38;5;124m10\u001b[39m\u001b[38;5;124m'\u001b[39m, \u001b[38;5;124m'\u001b[39m\u001b[38;5;124m9500\u001b[39m\u001b[38;5;124m'\u001b[39m, \u001b[38;5;124m'\u001b[39m\u001b[38;5;124m5\u001b[39m\u001b[38;5;124m'\u001b[39m]\n",
      "\u001b[1;31mNameError\u001b[0m: name 'csv' is not defined"
     ]
    }
   ],
   "source": [
    "# update overall file\n",
    "file = open(\"file.csv\", \"r\")\n",
    "f= csv.reader(file, delimiter=',')\n",
    "l=list(f)\n",
    "l[2]=['10', '9500', '5']\n",
    "file=open('up.csv', 'w')\n",
    "for i in l:\n",
    "    for j in i:\n",
    "        file.write(f\"{i[0]},{i[1]},{i[2]}\\n\")\n",
    "\n",
    "file.close()"
   ]
  },
  {
   "cell_type": "code",
   "execution_count": 1,
   "metadata": {},
   "outputs": [
    {
     "ename": "NameError",
     "evalue": "name 'csv' is not defined",
     "output_type": "error",
     "traceback": [
      "\u001b[1;31m---------------------------------------------------------------------------\u001b[0m",
      "\u001b[1;31mNameError\u001b[0m                                 Traceback (most recent call last)",
      "Cell \u001b[1;32mIn[1], line 3\u001b[0m\n\u001b[0;32m      1\u001b[0m \u001b[38;5;66;03m# update overall file\u001b[39;00m\n\u001b[0;32m      2\u001b[0m file \u001b[38;5;241m=\u001b[39m \u001b[38;5;28mopen\u001b[39m(\u001b[38;5;124m\"\u001b[39m\u001b[38;5;124mfile.csv\u001b[39m\u001b[38;5;124m\"\u001b[39m, \u001b[38;5;124m\"\u001b[39m\u001b[38;5;124mr\u001b[39m\u001b[38;5;124m\"\u001b[39m)\n\u001b[1;32m----> 3\u001b[0m f\u001b[38;5;241m=\u001b[39m \u001b[43mcsv\u001b[49m\u001b[38;5;241m.\u001b[39mreader(file, delimiter\u001b[38;5;241m=\u001b[39m\u001b[38;5;124m'\u001b[39m\u001b[38;5;124m,\u001b[39m\u001b[38;5;124m'\u001b[39m)\n\u001b[0;32m      4\u001b[0m l\u001b[38;5;241m=\u001b[39m\u001b[38;5;28mlist\u001b[39m(f)\n\u001b[0;32m      5\u001b[0m l[\u001b[38;5;241m2\u001b[39m]\u001b[38;5;241m=\u001b[39m[\u001b[38;5;124m'\u001b[39m\u001b[38;5;124m10\u001b[39m\u001b[38;5;124m'\u001b[39m, \u001b[38;5;124m'\u001b[39m\u001b[38;5;124m9500\u001b[39m\u001b[38;5;124m'\u001b[39m, \u001b[38;5;124m'\u001b[39m\u001b[38;5;124m5\u001b[39m\u001b[38;5;124m'\u001b[39m]\n",
      "\u001b[1;31mNameError\u001b[0m: name 'csv' is not defined"
     ]
    }
   ],
   "source": [
    "# update overall file\n",
    "file = open(\"file.csv\", \"r\")\n",
    "f= csv.reader(file, delimiter=',')\n",
    "l=list(f)\n",
    "l[2]=['10', '9500', '5']\n",
    "file=open('up.csv', 'w')\n",
    "for i in l:\n",
    "   q=\",\".join(i)+'\\n'\n",
    "   file.write(q)\n",
    "       \n",
    "\n",
    "file.close()"
   ]
  },
  {
   "cell_type": "code",
   "execution_count": 6,
   "metadata": {},
   "outputs": [
    {
     "ename": "NameError",
     "evalue": "name 'csv' is not defined",
     "output_type": "error",
     "traceback": [
      "\u001b[1;31m---------------------------------------------------------------------------\u001b[0m",
      "\u001b[1;31mNameError\u001b[0m                                 Traceback (most recent call last)",
      "Cell \u001b[1;32mIn[6], line 2\u001b[0m\n\u001b[0;32m      1\u001b[0m file \u001b[38;5;241m=\u001b[39m \u001b[38;5;28mopen\u001b[39m(\u001b[38;5;124m\"\u001b[39m\u001b[38;5;124mfile.csv\u001b[39m\u001b[38;5;124m\"\u001b[39m, \u001b[38;5;124m\"\u001b[39m\u001b[38;5;124mr\u001b[39m\u001b[38;5;124m\"\u001b[39m)\n\u001b[1;32m----> 2\u001b[0m f\u001b[38;5;241m=\u001b[39m \u001b[43mcsv\u001b[49m\u001b[38;5;241m.\u001b[39mreader(file, delimiter\u001b[38;5;241m=\u001b[39m\u001b[38;5;124m'\u001b[39m\u001b[38;5;124m,\u001b[39m\u001b[38;5;124m'\u001b[39m)\n\u001b[0;32m      3\u001b[0m l\u001b[38;5;241m=\u001b[39m\u001b[38;5;28mlist\u001b[39m(f)\n\u001b[0;32m      4\u001b[0m l[\u001b[38;5;241m2\u001b[39m]\u001b[38;5;241m=\u001b[39m[\u001b[38;5;124m'\u001b[39m\u001b[38;5;124m10\u001b[39m\u001b[38;5;124m'\u001b[39m, \u001b[38;5;124m'\u001b[39m\u001b[38;5;124m9500\u001b[39m\u001b[38;5;124m'\u001b[39m, \u001b[38;5;124m'\u001b[39m\u001b[38;5;124m5\u001b[39m\u001b[38;5;124m'\u001b[39m]\n",
      "\u001b[1;31mNameError\u001b[0m: name 'csv' is not defined"
     ]
    }
   ],
   "source": [
    "file = open(\"file.csv\", \"r\")\n",
    "f= csv.reader(file, delimiter=',')\n",
    "l=list(f)\n",
    "l[2]=['10', '9500', '5']\n",
    "print(l)\n",
    "file.close()"
   ]
  },
  {
   "cell_type": "code",
   "execution_count": 5,
   "metadata": {},
   "outputs": [
    {
     "ename": "NameError",
     "evalue": "name 'csv' is not defined",
     "output_type": "error",
     "traceback": [
      "\u001b[1;31m---------------------------------------------------------------------------\u001b[0m",
      "\u001b[1;31mNameError\u001b[0m                                 Traceback (most recent call last)",
      "Cell \u001b[1;32mIn[5], line 2\u001b[0m\n\u001b[0;32m      1\u001b[0m file \u001b[38;5;241m=\u001b[39m \u001b[38;5;28mopen\u001b[39m(\u001b[38;5;124m\"\u001b[39m\u001b[38;5;124mfile.csv\u001b[39m\u001b[38;5;124m\"\u001b[39m, \u001b[38;5;124m\"\u001b[39m\u001b[38;5;124mr\u001b[39m\u001b[38;5;124m\"\u001b[39m)\n\u001b[1;32m----> 2\u001b[0m f\u001b[38;5;241m=\u001b[39m \u001b[43mcsv\u001b[49m\u001b[38;5;241m.\u001b[39mreader(file, delimiter\u001b[38;5;241m=\u001b[39m\u001b[38;5;124m'\u001b[39m\u001b[38;5;124m,\u001b[39m\u001b[38;5;124m'\u001b[39m)\n\u001b[0;32m      3\u001b[0m l\u001b[38;5;241m=\u001b[39m\u001b[38;5;28mlist\u001b[39m(f)\n\u001b[0;32m      4\u001b[0m l[\u001b[38;5;241m2\u001b[39m]\u001b[38;5;241m.\u001b[39mpop()\n",
      "\u001b[1;31mNameError\u001b[0m: name 'csv' is not defined"
     ]
    }
   ],
   "source": [
    "\n",
    "file = open(\"file.csv\", \"r\")\n",
    "f= csv.reader(file, delimiter=',')\n",
    "l=list(f)\n",
    "l[2].pop()\n",
    "print(l)\n",
    "file.close()"
   ]
  },
  {
   "cell_type": "code",
   "execution_count": 41,
   "metadata": {},
   "outputs": [
    {
     "name": "stdout",
     "output_type": "stream",
     "text": [
      "150000\n",
      "1  25000 None\n",
      "624000\n",
      "2  78000 None\n",
      "145000\n",
      "3  14500 None\n",
      "158000\n",
      "4  79000 None\n"
     ]
    }
   ],
   "source": [
    "# print all columns except 3rd one\n",
    "file = open(\"file.csv\", \"r\")\n",
    "f= csv.reader(file,delimiter=\",\")\n",
    "l= list(f)\n",
    "for i in l:\n",
    "    a = print(int(i[1])* int(i[2]))\n",
    "    i.append(str(a))\n",
    "    print(i[0], i[1], i[3])\n",
    "file.close()\n",
    "   \n"
   ]
  },
  {
   "cell_type": "code",
   "execution_count": null,
   "metadata": {},
   "outputs": [],
   "source": []
  },
  {
   "cell_type": "code",
   "execution_count": null,
   "metadata": {},
   "outputs": [],
   "source": [
    "with open(\"text\", \"r\") as file:\n",
    "    content = file.readlines()\n",
    "    content[0] = \"todays date is 5th of dec 2024\"\n",
    "file.close()"
   ]
  },
  {
   "cell_type": "code",
   "execution_count": null,
   "metadata": {},
   "outputs": [],
   "source": [
    "# WAP that accepts length of 3 sides of a triangle. the program should indicate whether or not the triangle is \n",
    "# right angeled triangle also find out its area using herons formula\n",
    "l = [3,3,5]\n",
    "def right_angle(l):\n",
    "    l.sort()\n",
    "    h=l[-1]\n",
    "    p=l[1]\n",
    "    b= l[0]\n",
    "    if(h**2)== ((p**2)+(b**2)):\n",
    "        s=(h+p+b)/2\n",
    "        area=(s*(s-h)*(s-p)*(s-b))**(1/2)\n",
    "        print(area)\n",
    "        print(\"right_angle\")\n",
    "    else:\n",
    "        s=(h+p+b)/2\n",
    "        area = (s*(s-h)*(s-p)*(s-b))**(1/2)\n",
    "        print(area)\n",
    "        print(\"not a right_angle\")\n",
    "\n",
    "right_angle(l)"
   ]
  },
  {
   "cell_type": "code",
   "execution_count": null,
   "metadata": {},
   "outputs": [],
   "source": [
    "o=\"orange\"\n",
    "g = ''\n",
    "for i in sorted(o):\n",
    "    g+=i\n",
    "    print(g)\n",
    "\n",
    "\n"
   ]
  },
  {
   "cell_type": "code",
   "execution_count": null,
   "metadata": {},
   "outputs": [],
   "source": []
  }
 ],
 "metadata": {
  "kernelspec": {
   "display_name": "Python 3",
   "language": "python",
   "name": "python3"
  },
  "language_info": {
   "codemirror_mode": {
    "name": "ipython",
    "version": 3
   },
   "file_extension": ".py",
   "mimetype": "text/x-python",
   "name": "python",
   "nbconvert_exporter": "python",
   "pygments_lexer": "ipython3",
   "version": "3.12.4"
  }
 },
 "nbformat": 4,
 "nbformat_minor": 2
}
