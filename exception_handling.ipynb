{
 "cells": [
  {
   "cell_type": "code",
   "execution_count": null,
   "metadata": {},
   "outputs": [],
   "source": [
    "try:\n",
    "#code\n",
    "except #error_name:\n",
    "print(\"statement)"
   ]
  },
  {
   "cell_type": "code",
   "execution_count": 8,
   "metadata": {},
   "outputs": [
    {
     "name": "stdout",
     "output_type": "stream",
     "text": [
      "number more than zero\n"
     ]
    }
   ],
   "source": [
    "try:\n",
    "    a=5\n",
    "    b=0\n",
    "    print(a/b)\n",
    "except NameError as e:\n",
    "    print(\"please provide a proper value to the variable\")\n",
    "except ZeroDivisionError:\n",
    "    print('number more than zero')"
   ]
  },
  {
   "cell_type": "code",
   "execution_count": 10,
   "metadata": {},
   "outputs": [
    {
     "name": "stdout",
     "output_type": "stream",
     "text": [
      "division by zero\n"
     ]
    }
   ],
   "source": [
    "try:\n",
    "    a=5\n",
    "    b=0\n",
    "    print(a/b)\n",
    "except NameError:\n",
    "    print(\"please provide a proper value to the variable\")\n",
    "except Exception as r:\n",
    "    print(r)"
   ]
  },
  {
   "cell_type": "code",
   "execution_count": null,
   "metadata": {},
   "outputs": [],
   "source": [
    "# NameError \"no value to variable\"\n",
    "# ZeroDivisionError \"divided by 0\"\n",
    "# ValueError \"wrong different data insert into different data type\""
   ]
  },
  {
   "cell_type": "code",
   "execution_count": null,
   "metadata": {},
   "outputs": [],
   "source": [
    "try:\n",
    "    a=5\n",
    "    b=0\n",
    "    print(a/b)\n",
    "except NameError:\n",
    "    print(\"please provide a proper value to the variable\")\n",
    "except Exception as r:\n",
    "    print(r)"
   ]
  },
  {
   "cell_type": "code",
   "execution_count": 18,
   "metadata": {},
   "outputs": [],
   "source": [
    "a=[1,2,3,4,5]\n",
    "b=[6,7,8,9,10]\n",
    "c=[]\n",
    "def merge(a,b):\n",
    "   return a+b\n",
    "\n",
    "      "
   ]
  },
  {
   "cell_type": "code",
   "execution_count": 20,
   "metadata": {},
   "outputs": [],
   "source": [
    "try:\n",
    "   def merge(a,b):\n",
    "      print(a+b)\n",
    "      merge([4,5,6],[789])\n",
    "except TypeError:\n",
    "   print(\"please give only 2 list in the arguments using ,\")\n",
    "\n",
    "   "
   ]
  },
  {
   "cell_type": "code",
   "execution_count": 22,
   "metadata": {},
   "outputs": [
    {
     "name": "stdout",
     "output_type": "stream",
     "text": [
      "b must be more than 0\n"
     ]
    }
   ],
   "source": [
    "# take 2 user input for an integer value and divide 1st variable with 2nd one\n",
    "try:\n",
    "    a= int(input(\"enter a\"))\n",
    "    b= int(input(\"enter b\"))\n",
    "    print(a/b)\n",
    "except ValueError:\n",
    "    print(\"only int values\")\n",
    "except ZeroDivisionError:\n",
    "    print(\"b must be more than 0\")\n",
    "except Exception:\n",
    "    print('Exception')\n"
   ]
  },
  {
   "cell_type": "code",
   "execution_count": 23,
   "metadata": {},
   "outputs": [
    {
     "name": "stdout",
     "output_type": "stream",
     "text": [
      "w+ stand for write and read where we can write and read at the same time\n",
      "1st we need to write and then use file.read() to print the file\n",
      "\n"
     ]
    }
   ],
   "source": [
    "# delete the last row and update the file\n",
    "with open('xyz', 'w+') as file:\n",
    "    file.write('w+ stand for write and read where we can write and read at the same time\\n')\n",
    "    file.write('1st we need to write and then use file.read() to print the file\\n')\n",
    "    file.seek(0)\n",
    "    print(file.read())"
   ]
  },
  {
   "cell_type": "code",
   "execution_count": null,
   "metadata": {},
   "outputs": [],
   "source": [
    "# delete the last row and update the file\n",
    "with open('xyz', 'a+') as file:\n",
    "    file.write('a+ is used for append and read where we can append any line')\n",
    "    file.write(\"then we can print all the lines of the file using 'file.read()'\\n\")\n",
    "    file.seek(0)\n",
    "    print(file.read())"
   ]
  },
  {
   "cell_type": "code",
   "execution_count": null,
   "metadata": {},
   "outputs": [],
   "source": [
    "# delete the last row and update the file\n",
    "with open('xyz', 'r+') as file:\n",
    "    file.read()"
   ]
  },
  {
   "cell_type": "code",
   "execution_count": null,
   "metadata": {},
   "outputs": [],
   "source": []
  },
  {
   "cell_type": "code",
   "execution_count": null,
   "metadata": {},
   "outputs": [],
   "source": []
  }
 ],
 "metadata": {
  "kernelspec": {
   "display_name": "Python 3",
   "language": "python",
   "name": "python3"
  },
  "language_info": {
   "codemirror_mode": {
    "name": "ipython",
    "version": 3
   },
   "file_extension": ".py",
   "mimetype": "text/x-python",
   "name": "python",
   "nbconvert_exporter": "python",
   "pygments_lexer": "ipython3",
   "version": "3.12.4"
  }
 },
 "nbformat": 4,
 "nbformat_minor": 2
}
