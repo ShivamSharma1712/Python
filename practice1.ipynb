{
 "cells": [
  {
   "cell_type": "code",
   "execution_count": 4,
   "metadata": {},
   "outputs": [
    {
     "name": "stdout",
     "output_type": "stream",
     "text": [
      "0\n"
     ]
    }
   ],
   "source": [
    "s=input('enter string')\n",
    "vow=0\n",
    "for i in s:\n",
    "    if i in 'aeiou':\n",
    "        vow +=1\n",
    "print(vow)"
   ]
  },
  {
   "cell_type": "code",
   "execution_count": 8,
   "metadata": {},
   "outputs": [
    {
     "name": "stdout",
     "output_type": "stream",
     "text": [
      "[1, 2, 3]\n"
     ]
    }
   ],
   "source": [
    "#Q2\n",
    "# Input F = [1,2,4,2,4,5,9,8,7,9]\n",
    "# Write a Python program that takes a list of numbers \n",
    "# from the user, removes duplicates, and prints the \n",
    "# sorted list in ascending order.\n",
    "# Excepted output = [1, 2, 4, 5, 7, 8, 9]\n",
    "\n",
    "# Take input and convert it into a list of integers\n",
    "# map function in Python is used to apply a function to each item in an iterable (like a list).\n",
    "user = input(\"Enter numbers separated by spaces: \")\n",
    "\n",
    "list1 = list(map(int, user.split()))\n",
    "\n",
    "\n",
    "\n",
    "# Remove duplicates and sort the list\n",
    "list2 = sorted(set(list1))\n",
    "\n",
    "# Print the sorted list\n",
    "print(list2)\n",
    "\n"
   ]
  },
  {
   "cell_type": "code",
   "execution_count": null,
   "metadata": {},
   "outputs": [],
   "source": [
    "# Q3 Input: t = (-1,1,2,3,0,4,5,9)\n",
    "# Write a Python program that takes a tuple of \n",
    "# numbers, then prints the largest and smallest \n",
    "# number in the tuple.\n",
    "# Expected output\n",
    "# smallest -1\n",
    "# largest = 9\n",
    "\n",
    "t = (-1, 1, 2, 3, 0, 4, 5, 9)\n",
    "\n",
    "# Find the smallest and largest numbers\n",
    "smallest = min(t)\n",
    "largest = max(t)\n",
    "\n",
    "# Print the results\n",
    "print(\"Smallest:\", smallest)\n",
    "print(\"Largest:\", largest)\n"
   ]
  },
  {
   "cell_type": "code",
   "execution_count": 9,
   "metadata": {},
   "outputs": [
    {
     "name": "stdout",
     "output_type": "stream",
     "text": [
      "1\n",
      "2\n",
      "Fizz\n",
      "4\n",
      "Buzz\n",
      "Fizz\n",
      "7\n",
      "8\n",
      "Fizz\n",
      "Buzz\n",
      "11\n",
      "Fizz\n",
      "13\n",
      "14\n",
      "FizzBuzz\n",
      "16\n",
      "17\n",
      "Fizz\n",
      "19\n",
      "Buzz\n",
      "Fizz\n",
      "22\n",
      "23\n",
      "Fizz\n",
      "Buzz\n",
      "26\n",
      "Fizz\n",
      "28\n",
      "29\n",
      "FizzBuzz\n",
      "31\n",
      "32\n",
      "Fizz\n",
      "34\n",
      "Buzz\n",
      "Fizz\n",
      "37\n",
      "38\n",
      "Fizz\n",
      "Buzz\n",
      "41\n",
      "Fizz\n",
      "43\n",
      "44\n",
      "FizzBuzz\n",
      "46\n",
      "47\n",
      "Fizz\n",
      "49\n",
      "Buzz\n",
      "Fizz\n",
      "52\n",
      "53\n",
      "Fizz\n",
      "Buzz\n",
      "56\n",
      "Fizz\n",
      "58\n",
      "59\n",
      "FizzBuzz\n",
      "61\n",
      "62\n",
      "Fizz\n",
      "64\n",
      "Buzz\n",
      "Fizz\n",
      "67\n",
      "68\n",
      "Fizz\n",
      "Buzz\n",
      "71\n",
      "Fizz\n",
      "73\n",
      "74\n",
      "FizzBuzz\n",
      "76\n",
      "77\n",
      "Fizz\n",
      "79\n",
      "Buzz\n",
      "Fizz\n",
      "82\n",
      "83\n",
      "Fizz\n",
      "Buzz\n",
      "86\n",
      "Fizz\n",
      "88\n",
      "89\n",
      "FizzBuzz\n",
      "91\n",
      "92\n",
      "Fizz\n",
      "94\n",
      "Buzz\n",
      "Fizz\n",
      "97\n",
      "98\n",
      "Fizz\n",
      "Buzz\n"
     ]
    }
   ],
   "source": [
    "for i in range(1,101):\n",
    "    if i%3==0 and i%5==0:\n",
    "        print('FizzBuzz')\n",
    "    elif i%3==0:\n",
    "        print('Fizz')\n",
    "    elif i%5==0:\n",
    "        print('Buzz')\n",
    "    else:\n",
    "        print(i)"
   ]
  },
  {
   "cell_type": "code",
   "execution_count": 11,
   "metadata": {},
   "outputs": [
    {
     "name": "stdout",
     "output_type": "stream",
     "text": [
      "min: 1\n",
      "max: 5\n",
      "average: 3.2\n"
     ]
    }
   ],
   "source": [
    "def fun():\n",
    "    user = input('enter list')\n",
    "    list1 = list(map(int, user.split()))\n",
    "    min=list1[0]\n",
    "    max=list1[0]\n",
    "    total=list1[0]\n",
    "\n",
    "    for i in list1:\n",
    "        if i>max:\n",
    "            max=i\n",
    "        if i<min:\n",
    "            min=i\n",
    "        total= total + i\n",
    "        average= total/len(list1)\n",
    "\n",
    "    print('min:',min)\n",
    "    print('max:',max)\n",
    "    print('average:',average)\n",
    "\n",
    "fun()"
   ]
  },
  {
   "cell_type": "code",
   "execution_count": 13,
   "metadata": {},
   "outputs": [
    {
     "name": "stdout",
     "output_type": "stream",
     "text": [
      "321\n"
     ]
    }
   ],
   "source": [
    "num = int(input('enter number:'))\n",
    "reverse =0\n",
    "while num>0:\n",
    "    rem = num%10\n",
    "    reverse= reverse*10 + rem\n",
    "    num = num//10\n",
    "print(reverse)\n"
   ]
  },
  {
   "cell_type": "code",
   "execution_count": 4,
   "metadata": {},
   "outputs": [
    {
     "name": "stdout",
     "output_type": "stream",
     "text": [
      "9\n",
      "[1, 2, 3, 9, 66]\n"
     ]
    }
   ],
   "source": [
    "#Q9\n",
    "list1=[1,2,3,9,2,66]\n",
    "list2= sorted(set(list1))\n",
    "print(list2[-2])\n",
    "print(list2)"
   ]
  }
 ],
 "metadata": {
  "kernelspec": {
   "display_name": "Python 3",
   "language": "python",
   "name": "python3"
  },
  "language_info": {
   "codemirror_mode": {
    "name": "ipython",
    "version": 3
   },
   "file_extension": ".py",
   "mimetype": "text/x-python",
   "name": "python",
   "nbconvert_exporter": "python",
   "pygments_lexer": "ipython3",
   "version": "3.12.4"
  }
 },
 "nbformat": 4,
 "nbformat_minor": 2
}
