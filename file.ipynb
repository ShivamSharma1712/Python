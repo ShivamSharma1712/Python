{
 "cells": [
  {
   "cell_type": "code",
   "execution_count": 7,
   "metadata": {},
   "outputs": [],
   "source": [
    "file = open(\"text\", \"w\")\n",
    "file.write(\"Data science is important because it combines tools, methods, and technology to generate\\n\")\n",
    "file.write(\"meaning from data .Modern organizations are inundated with data;\\n\")\n",
    "file.write(\"there is a profliferation of devices that can automatically collect and store information\\n \")\n",
    "file.write(\"\"\"Online systems and payment portals capture more data in the fields of e-commerce, medicine, finance,\\n\"\"\")\n",
    "file.write(\"\"\" and every other aspect of human life, we have text, audio, video, and image data available in vast quantities\\n\"\"\")\n",
    "file.close()"
   ]
  },
  {
   "cell_type": "code",
   "execution_count": null,
   "metadata": {},
   "outputs": [
    {
     "name": "stdout",
     "output_type": "stream",
     "text": [
      "Line 3: there is a profliferation of devices that can automatically collect and store information\n",
      "Line 5:  and every other aspect of human life, we have text, audio, video, and image data available in vast quantities\n"
     ]
    }
   ],
   "source": [
    "# return 3rd and 5th file line of the file\n",
    "file = open(\"text\", \"r\")\n",
    "f = file.readlines()  \n",
    "\n",
    "\n",
    "print(f\"Line 3: {f[2]}\", end='')  \n",
    "print(f\"Line 5: {f[4]}\", end='')  \n",
    "\n",
    "file.close()\n"
   ]
  },
  {
   "cell_type": "code",
   "execution_count": null,
   "metadata": {},
   "outputs": [
    {
     "name": "stdout",
     "output_type": "stream",
     "text": [
      "DATA SCIENCE IS IMPORTANT BECAUSE IT COMBINES TOOLS, METHODS, AND TECHNOLOGY TO GENERATE\n",
      "\n",
      " AND EVERY OTHER ASPECT OF HUMAN LIFE, WE HAVE TEXT, AUDIO, VIDEO, AND IMAGE DATA AVAILABLE IN VAST QUANTITIES\n",
      "\n"
     ]
    }
   ],
   "source": [
    "# convert 1st and last line of file in uppercASE\n",
    "file = open(\"text\",\"r\")\n",
    "f=file.readlines() #to print more than 1 line we assign readline value in variable now we print variable multiple times\n",
    "print(f[0].upper())\n",
    "print(f[4].upper())\n",
    "file.close()"
   ]
  },
  {
   "cell_type": "code",
   "execution_count": 15,
   "metadata": {},
   "outputs": [],
   "source": [
    "# add line at start of line in uppercase\n",
    "# Open the file in read mode\n",
    "file = open(\"text\", \"r\")\n",
    "lines = file.readlines()\n",
    "file.close()\n",
    "\n",
    "# Add line number at the start of each line in uppercase\n",
    "for i in range(len(lines)):\n",
    "    lines[i] = str(i + 1) + \" \" + lines[i]\n",
    "\n",
    "# Open the file in write mode to save changes\n",
    "file = open(\"text\", \"w\")\n",
    "file.writelines(lines)\n",
    "file.close()\n"
   ]
  },
  {
   "cell_type": "code",
   "execution_count": 3,
   "metadata": {},
   "outputs": [
    {
     "name": "stdout",
     "output_type": "stream",
     "text": [
      "Updated 4th line:  Online systems and payment portals capture more data in the fields of finance,\n",
      "\n"
     ]
    }
   ],
   "source": [
    "# delete medicine, finance, e-commerce in 4th line \n",
    "\n",
    "\n",
    "file = open(\"text\", \"r\")\n",
    "lines = file.readlines()  \n",
    "file.close()  \n",
    "\n",
    "\n",
    "lines[3] = lines[3].replace(\"e-commerce, \", \"\").replace(\"medicine, \", \"\").replace(\"finance, \", \"\")\n",
    "\n",
    "file = open(\"text\", \"w\")\n",
    "file.writelines(lines)  \n",
    "file.close()  \n",
    "\n",
    "\n",
    "print(\"Updated 4th line:\", lines[3])\n",
    "\n"
   ]
  },
  {
   "cell_type": "code",
   "execution_count": 12,
   "metadata": {},
   "outputs": [
    {
     "name": "stdout",
     "output_type": "stream",
     "text": [
      "TEXT, VIDEO\n"
     ]
    }
   ],
   "source": [
    "# convert \"text\", \"video\" intio \"TEXT\", \"VIDEO\"\n",
    "\n",
    "words = [\"text\", \"video\"]\n",
    "\n",
    "converted_words = []\n",
    "\n",
    "for word in words:\n",
    "    converted_words.append(word.upper())\n",
    "\n",
    "print(*converted_words, sep=\", \")\n",
    "\n"
   ]
  },
  {
   "cell_type": "code",
   "execution_count": null,
   "metadata": {},
   "outputs": [],
   "source": []
  }
 ],
 "metadata": {
  "kernelspec": {
   "display_name": "Python 3",
   "language": "python",
   "name": "python3"
  },
  "language_info": {
   "codemirror_mode": {
    "name": "ipython",
    "version": 3
   },
   "file_extension": ".py",
   "mimetype": "text/x-python",
   "name": "python",
   "nbconvert_exporter": "python",
   "pygments_lexer": "ipython3",
   "version": "3.12.4"
  }
 },
 "nbformat": 4,
 "nbformat_minor": 2
}
