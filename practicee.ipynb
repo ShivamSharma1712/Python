{
 "cells": [
  {
   "cell_type": "code",
   "execution_count": null,
   "metadata": {},
   "outputs": [],
   "source": [
    "#fun to create 2 list  after concatenate and find min and max"
   ]
  },
  {
   "cell_type": "code",
   "execution_count": 1,
   "metadata": {},
   "outputs": [
    {
     "name": "stdout",
     "output_type": "stream",
     "text": [
      "Minimum value: 1\n",
      "Maximum value: 8\n"
     ]
    }
   ],
   "source": [
    "def fun():\n",
    "    list1 = [1, 2, 3, 4]\n",
    "    list2 = [5, 6, 7, 8]\n",
    "    list3 = list1 + list2  \n",
    "    \n",
    "    min = list3[0]\n",
    "    max = list3[0]\n",
    "    \n",
    "   \n",
    "    for i in list3:\n",
    "        if i < min:\n",
    "            min = i\n",
    "        if i > max:\n",
    "            max = i\n",
    "            \n",
    "    print(\"Minimum value:\", min)\n",
    "    print(\"Maximum value:\", max)\n",
    "\n",
    "\n",
    "fun()\n"
   ]
  },
  {
   "cell_type": "code",
   "execution_count": 11,
   "metadata": {},
   "outputs": [
    {
     "name": "stdout",
     "output_type": "stream",
     "text": [
      "0\n",
      "[1, 2, 2, 3, 4, 4]\n"
     ]
    }
   ],
   "source": [
    "def fun():\n",
    "    list1=[1,2,2,3,4,4]\n",
    "    a=0\n",
    "    for i in list1:\n",
    "        if  list1[a]== i:\n",
    "            print(a)\n",
    "    else:\n",
    "        print(list1)\n",
    "fun()\n"
   ]
  },
  {
   "cell_type": "code",
   "execution_count": null,
   "metadata": {},
   "outputs": [],
   "source": []
  },
  {
   "cell_type": "code",
   "execution_count": null,
   "metadata": {},
   "outputs": [],
   "source": []
  }
 ],
 "metadata": {
  "kernelspec": {
   "display_name": "Python 3",
   "language": "python",
   "name": "python3"
  },
  "language_info": {
   "codemirror_mode": {
    "name": "ipython",
    "version": 3
   },
   "file_extension": ".py",
   "mimetype": "text/x-python",
   "name": "python",
   "nbconvert_exporter": "python",
   "pygments_lexer": "ipython3",
   "version": "3.12.4"
  }
 },
 "nbformat": 4,
 "nbformat_minor": 2
}
