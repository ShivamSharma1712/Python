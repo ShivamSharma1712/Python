{
 "cells": [
  {
   "cell_type": "code",
   "execution_count": 9,
   "metadata": {},
   "outputs": [
    {
     "data": {
      "text/plain": [
       "[1, 2, 3, [4, 5]]"
      ]
     },
     "execution_count": 9,
     "metadata": {},
     "output_type": "execute_result"
    }
   ],
   "source": [
    "r=[1,2,3]\n",
    "g=[4,5]\n",
    "\n",
    "r.append(g) #here append includes list g inside list r\n",
    "r\n"
   ]
  },
  {
   "cell_type": "code",
   "execution_count": 10,
   "metadata": {},
   "outputs": [
    {
     "data": {
      "text/plain": [
       "[1, 2, 3, 4, 5]"
      ]
     },
     "execution_count": 10,
     "metadata": {},
     "output_type": "execute_result"
    }
   ],
   "source": [
    "r=[1,2,3]\n",
    "g=[4,5]\n",
    "\n",
    "r+g   # here + concate the 2 lists"
   ]
  },
  {
   "cell_type": "code",
   "execution_count": 16,
   "metadata": {},
   "outputs": [
    {
     "name": "stdout",
     "output_type": "stream",
     "text": [
      "15\n"
     ]
    }
   ],
   "source": [
    "# sum of elements inside list\n",
    "b= [1,2,3,4,5]\n",
    "sum=0\n",
    "for i in b:\n",
    "    sum = sum+i\n",
    "print(sum)"
   ]
  },
  {
   "cell_type": "code",
   "execution_count": 17,
   "metadata": {},
   "outputs": [
    {
     "data": {
      "text/plain": [
       "15"
      ]
     },
     "execution_count": 17,
     "metadata": {},
     "output_type": "execute_result"
    }
   ],
   "source": [
    "# sum of elements inside list\n",
    "def add():\n",
    "    b= [1,2,3,4,5]\n",
    "    sum=0\n",
    "    for i in b:\n",
    "        sum = sum+i\n",
    "    return sum\n",
    "add()"
   ]
  },
  {
   "cell_type": "code",
   "execution_count": 20,
   "metadata": {},
   "outputs": [
    {
     "name": "stdout",
     "output_type": "stream",
     "text": [
      "-2\n",
      "-6\n",
      "-7\n"
     ]
    },
    {
     "data": {
      "text/plain": [
       "13"
      ]
     },
     "execution_count": 20,
     "metadata": {},
     "output_type": "execute_result"
    }
   ],
   "source": [
    "# sum of all +ve numbers in the list:\n",
    "# sum of elements inside list\n",
    "def add():\n",
    "    b= [1,-2,3,4,5,-6,-7]\n",
    "    sum=0\n",
    "    for i in b:\n",
    "        if i >0:\n",
    "            sum = sum+i\n",
    "        else:\n",
    "            print(i)\n",
    "    return sum\n",
    "add()"
   ]
  },
  {
   "cell_type": "code",
   "execution_count": 23,
   "metadata": {},
   "outputs": [
    {
     "name": "stdout",
     "output_type": "stream",
     "text": [
      "-2\n",
      "-6\n",
      "-7\n"
     ]
    },
    {
     "data": {
      "text/plain": [
       "13"
      ]
     },
     "execution_count": 23,
     "metadata": {},
     "output_type": "execute_result"
    }
   ],
   "source": [
    "# count no. of +ve numbers inside list\n",
    "\n",
    "def count():\n",
    "    b= [1,-2,3,4,5,-6,-7]\n",
    "    cou=0\n",
    "    for i in b:\n",
    "        if i >0:\n",
    "            cou=cou + 1\n",
    "        else:\n",
    "            print(i)\n",
    "    return sum\n",
    "add()"
   ]
  },
  {
   "cell_type": "code",
   "execution_count": 30,
   "metadata": {},
   "outputs": [
    {
     "data": {
      "text/plain": [
       "4"
      ]
     },
     "execution_count": 30,
     "metadata": {},
     "output_type": "execute_result"
    }
   ],
   "source": [
    "# count no. of +ve numbers inside list\n",
    "\n",
    "def count():\n",
    "    b= [1,-2,3,4,5,-6,-7]\n",
    "    count=0\n",
    "    for i in b:\n",
    "        if i >0:\n",
    "            count=count + 1\n",
    "       \n",
    "    return count\n",
    "count()"
   ]
  },
  {
   "cell_type": "code",
   "execution_count": 33,
   "metadata": {},
   "outputs": [
    {
     "name": "stdout",
     "output_type": "stream",
     "text": [
      "GOOD MORNING Shivam\n",
      "GOOD MORNING Ansh\n",
      "GOOD MORNING Sharesht\n",
      "GOOD MORNING Rishi\n",
      "GOOD MORNING Bansh\n"
     ]
    }
   ],
   "source": [
    "# print greeting msg using fun\n",
    "def greet():\n",
    "    a=['Shivam', 'Ansh', 'Sharesht', 'Rishi', 'Bansh']\n",
    "    for i in a:\n",
    "        print('GOOD MORNING', i)\n",
    "greet()"
   ]
  },
  {
   "cell_type": "code",
   "execution_count": 8,
   "metadata": {},
   "outputs": [
    {
     "name": "stdout",
     "output_type": "stream",
     "text": [
      "GOOD MORNING Shivam\n",
      "GOOD MORNING Ansh\n",
      "GOOD MORNING Sharesht\n",
      "GOOD MORNING Rishi\n",
      "GOOD MORNING Bansh\n"
     ]
    }
   ],
   "source": [
    "# print greeting msg using fun\n",
    "a=['Shivam', 'Ansh', 'Sharesht', 'Rishi', 'Bansh']\n",
    "def gret(a):\n",
    "    for i in a:\n",
    "        print('GOOD MORNING', i) #it prints all strings but return only prints one string\n",
    "gret(a)"
   ]
  },
  {
   "cell_type": "code",
   "execution_count": 6,
   "metadata": {},
   "outputs": [
    {
     "name": "stdout",
     "output_type": "stream",
     "text": [
      "Tax= 13000.0\n",
      "Income= 247000.0\n"
     ]
    }
   ],
   "source": [
    "def tax(a):\n",
    "    if a>=0 and a<250000:\n",
    "        print(\"No tax\")\n",
    "\n",
    "    elif a>250000 and a<=500000:\n",
    "        print(\"Tax=\",(5/100)*a)\n",
    "\n",
    "        print(\"Income=\",a-((5/100)*a)) \n",
    "\n",
    "    elif a>500000 and a<=750000:\n",
    "        print(\"10% Tax=\",(10/100)*a)\n",
    "        print(\"Income=\",a-((10/100)*a))\n",
    "\n",
    "    elif a>750000 and a<=1000000:\n",
    "        print(\"15% Tax=\",(15/100)*a)\n",
    "        print(\"Income=\",a-((15/100)*a))\n",
    "\n",
    "    elif a>1000000 and a<=1250000:\n",
    "        print(\"20% Tax=\",(20/100)*a)\n",
    "        print(\"Income=\",a-((20/100)*a))\n",
    "\n",
    "    elif a>1250000 and a<=1500000:\n",
    "        print(\"25% Tax=\",(25/100)*a)\n",
    "        print(\"Income=\",a-((25/100)*a))\n",
    "        \n",
    "    elif a>1500000:\n",
    "        print(\"30% Tax=\",(30/100)*a)\n",
    "        print(\"Income=\",a-((30/100)*a))\n",
    "\n",
    "tax(260000)"
   ]
  },
  {
   "cell_type": "code",
   "execution_count": null,
   "metadata": {},
   "outputs": [],
   "source": [
    "pie* r**2*h vol\n",
    "araea 2*pie*r(r+h)"
   ]
  },
  {
   "cell_type": "code",
   "execution_count": 29,
   "metadata": {},
   "outputs": [
    {
     "name": "stdout",
     "output_type": "stream",
     "text": [
      "area of cyclinder: 314.0\n"
     ]
    }
   ],
   "source": [
    "# area, perimeter of circle, triangle and area, volume of cyclinder\n",
    "def shapes():\n",
    "    shape = input('enter name of shape')\n",
    "    if shape=='circle':\n",
    "        r=float(input('enter radius:'))\n",
    "        x=input('enter what you want to calculate:')\n",
    "        if x == 'area':\n",
    "            area = 3.14*r*r\n",
    "            print('area of circle:', area)\n",
    "        elif x == 'circumference':\n",
    "            circumference = 2*3.14*r\n",
    "            print('circumference of circle:', circumference)\n",
    "    \n",
    "    elif shape=='triangle':\n",
    "        a=float(input('enter 1st side of triangle'))\n",
    "        b=float(input('enter base:'))\n",
    "        h=float(input('enter height:'))\n",
    "        y=input('enter what you want to calculate:')\n",
    "        if y == 'area':\n",
    "            area = (1/2)*b*h\n",
    "            print('area of triangle:', area)\n",
    "        elif y == 'perimeter':\n",
    "            perimeter = a+b+h\n",
    "            print('perimeter of triangle:', perimeter)\n",
    "    \n",
    "    elif shape=='cylinder':\n",
    "        R=float(input('enter radius'))\n",
    "        H=float(input('enter height:'))\n",
    "        z=input('enter what you want to calculate:')\n",
    "        if z == 'area':\n",
    "            area =2*3.14*R*(R+H)\n",
    "            print('area of cylinder:', area)\n",
    "        elif z == 'volume':\n",
    "            volume = 3.14* R**2*H\n",
    "            print('volume of cylinder:', volume)\n",
    "shapes()\n",
    "            "
   ]
  },
  {
   "cell_type": "code",
   "execution_count": null,
   "metadata": {},
   "outputs": [],
   "source": [
    "# Define Function\n",
    "# A defined function is a function is a block of resuseable code that performs a specific task.\n",
    "# It is like having a mini program within your larger program.\n",
    "\n",
    "# Function Name:\n",
    "# This is the name you give to your function.It should be descriptive and indicative of what function does.\n",
    "\n",
    "# Parameters (or Arguments)\n",
    "# These are optional inputs that we can pass into function.\n",
    "# They act as placeholders for the values we want to work with inside the function.\n",
    "\n",
    "# Function Body:\n",
    "# This is where we write the actual code that performs the task we want the function to do. It can be as simple or as complex as we need it to be.\n",
    "\n",
    "# Return Statement:\n",
    "# This is optimal .If our function needs to produce an output .we can use the return statement to specify what value the function should return when it is called."
   ]
  },
  {
   "cell_type": "code",
   "execution_count": null,
   "metadata": {},
   "outputs": [],
   "source": []
  },
  {
   "cell_type": "code",
   "execution_count": null,
   "metadata": {},
   "outputs": [],
   "source": []
  }
 ],
 "metadata": {
  "kernelspec": {
   "display_name": "Python 3",
   "language": "python",
   "name": "python3"
  },
  "language_info": {
   "codemirror_mode": {
    "name": "ipython",
    "version": 3
   },
   "file_extension": ".py",
   "mimetype": "text/x-python",
   "name": "python",
   "nbconvert_exporter": "python",
   "pygments_lexer": "ipython3",
   "version": "3.12.4"
  }
 },
 "nbformat": 4,
 "nbformat_minor": 2
}
