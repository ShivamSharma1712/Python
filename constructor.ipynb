{
 "cells": [
  {
   "cell_type": "code",
   "execution_count": 1,
   "metadata": {},
   "outputs": [
    {
     "data": {
      "text/plain": [
       "'KBC Quiz Game.code-workspace'"
      ]
     },
     "execution_count": 1,
     "metadata": {},
     "output_type": "execute_result"
    }
   ],
   "source": [
    "\"KBC Quiz Game.code-workspace\""
   ]
  },
  {
   "cell_type": "code",
   "execution_count": 2,
   "metadata": {},
   "outputs": [
    {
     "name": "stdout",
     "output_type": "stream",
     "text": [
      "10\n"
     ]
    },
    {
     "data": {
      "text/plain": [
       "40"
      ]
     },
     "execution_count": 2,
     "metadata": {},
     "output_type": "execute_result"
    }
   ],
   "source": [
    "#Inheritance\n",
    "class A:\n",
    "    a=10\n",
    "    a1=20\n",
    "class B(A): #class b inherit class a\n",
    "    b=30\n",
    "    b1=40\n",
    "b=B()\n",
    "print(b.a)\n",
    "b.b1"
   ]
  },
  {
   "cell_type": "code",
   "execution_count": null,
   "metadata": {},
   "outputs": [
    {
     "name": "stdout",
     "output_type": "stream",
     "text": [
      "40\n",
      "20\n"
     ]
    }
   ],
   "source": [
    "class C(B): # class C inhetrits Derived class B(which inherits class A)\n",
    "    c=55\n",
    "    c1=90\n",
    "c=C()\n",
    "print(c.b1)\n",
    "print(c.a1)\n"
   ]
  },
  {
   "cell_type": "code",
   "execution_count": 13,
   "metadata": {},
   "outputs": [
    {
     "name": "stdout",
     "output_type": "stream",
     "text": [
      "class A method\n",
      "class B method\n"
     ]
    }
   ],
   "source": [
    "class A:\n",
    "    def methodA(self):\n",
    "        print('class A method')\n",
    "class B(A):\n",
    "    def methodB(self):\n",
    "        print('class B method')\n",
    "b=B()\n",
    "b.methodA()\n",
    "b.methodB()"
   ]
  },
  {
   "cell_type": "code",
   "execution_count": null,
   "metadata": {},
   "outputs": [
    {
     "name": "stdout",
     "output_type": "stream",
     "text": [
      "whatsapp is working\n",
      "whatsapp1.01. is working\n"
     ]
    }
   ],
   "source": [
    "class Whatsapp:\n",
    "    def __init__(self): \n",
    "        print('whatsapp is working')\n",
    "\n",
    "class Whatsapp1(Whatsapp):\n",
    "    def __init__(self):\n",
    "        super().__init__() # super is used to call both constructor\n",
    "        print('whatsapp1.01. is working')\n",
    "w=Whatsapp1()"
   ]
  },
  {
   "cell_type": "code",
   "execution_count": 23,
   "metadata": {},
   "outputs": [
    {
     "name": "stdout",
     "output_type": "stream",
     "text": [
      "Type 5G\n",
      "Color black\n",
      "display_size 8'inc\n",
      "Ram 16\n",
      "Ram 125\n",
      "Ram 12\n"
     ]
    }
   ],
   "source": [
    "class Phone:\n",
    "    def __init__(self,ram,rom,camera):\n",
    "        self.ram=ram\n",
    "        self.rom=rom\n",
    "        self.camera=camera\n",
    "    def display(self):\n",
    "        print('Ram', self.ram)\n",
    "        print('Ram', self.rom)\n",
    "        print('Ram', self.camera)\n",
    "\n",
    "class Phone1(Phone):\n",
    "    def __init__(self,ram,rom,camera,typ,color,display_size):\n",
    "        self.ram=ram\n",
    "        self.rom=rom\n",
    "        self.camera=camera\n",
    "        self.typ=typ\n",
    "        self.color=color\n",
    "        self.display_size=display_size\n",
    "    def full_info(self):\n",
    "        print('Type', self.typ)\n",
    "        print('Color', self.color)\n",
    "        print('display_size', self.display_size)\n",
    "\n",
    "p= Phone1(16,125,12,'5G','black',\"8'inc\")\n",
    "\n",
    "p.full_info()\n",
    "p.display()\n",
    "\n",
    "        \n",
    "        \n",
    "\n",
    "        "
   ]
  },
  {
   "cell_type": "code",
   "execution_count": null,
   "metadata": {},
   "outputs": [],
   "source": [
    "class A:\n",
    "    d=5\n",
    "class B:\n",
    "    f=9\n",
    "class C(A,B):\n",
    "    rr=20"
   ]
  },
  {
   "cell_type": "code",
   "execution_count": null,
   "metadata": {},
   "outputs": [],
   "source": [
    "h*60+m+s"
   ]
  },
  {
   "cell_type": "code",
   "execution_count": 25,
   "metadata": {},
   "outputs": [
    {
     "name": "stdout",
     "output_type": "stream",
     "text": [
      "Total minutes: 1020.0\n",
      "Total hours: 17.0\n"
     ]
    }
   ],
   "source": [
    "# create a class Calculator with attributes hours, minutes, seconds then create 2 methods total_min and total_hours\n",
    "# create a class Calculator1 with attributes day, month then create 2 methods total_days and total_months\n",
    "\n",
    "class Calculator:\n",
    "    def __init__(self, hour, min, sec):\n",
    "        self.hour = hour\n",
    "        self.min = min\n",
    "        self.sec = sec\n",
    "\n",
    "    def total_min(self):\n",
    "        total_minutes = (self.hour * 60) + self.min + (self.sec / 60)\n",
    "        print('Total minutes:', total_minutes)\n",
    "\n",
    "    def total_hours(self):\n",
    "        total_hours = self.hour + (self.min / 60) + (self.sec / 3600)\n",
    "        print('Total hours:', total_hours)\n",
    "\n",
    "x = Calculator(12, 240, 3600)\n",
    "x.total_min()\n",
    "x.total_hours()\n",
    "\n",
    "\n",
    "\n",
    "\n",
    "        \n"
   ]
  },
  {
   "cell_type": "code",
   "execution_count": null,
   "metadata": {},
   "outputs": [
    {
     "data": {
      "text/plain": [
       "Type help() for interactive help, or help(object) for help about object."
      ]
     },
     "execution_count": 3,
     "metadata": {},
     "output_type": "execute_result"
    }
   ],
   "source": [
    "# private and public variables and methods\n",
    "class Private:\n",
    "    __name = 'Shivam' #creating private variable using __\n",
    "    name = 'Ansh'\n",
    "p= Private()\n",
    "help"
   ]
  },
  {
   "cell_type": "code",
   "execution_count": null,
   "metadata": {},
   "outputs": [
    {
     "data": {
      "text/plain": [
       "'Shivam'"
      ]
     },
     "execution_count": 11,
     "metadata": {},
     "output_type": "execute_result"
    }
   ],
   "source": [
    "class Student:\n",
    "    __name = 'Shivam'\n",
    "    name = 'Sharma'\n",
    "    def show(self):\n",
    "        return self.__name\n",
    "    def show1(self):\n",
    "          self.name\n",
    "s=Student()\n",
    "s.show() # we can print private variable by using function but not directly using print statement"
   ]
  },
  {
   "cell_type": "code",
   "execution_count": null,
   "metadata": {},
   "outputs": [
    {
     "ename": "AttributeError",
     "evalue": "'A' object has no attribute '__show'",
     "output_type": "error",
     "traceback": [
      "\u001b[1;31m---------------------------------------------------------------------------\u001b[0m",
      "\u001b[1;31mAttributeError\u001b[0m                            Traceback (most recent call last)",
      "Cell \u001b[1;32mIn[13], line 7\u001b[0m\n\u001b[0;32m      5\u001b[0m         \u001b[38;5;28;01mreturn\u001b[39;00m \u001b[38;5;241m99\u001b[39m\n\u001b[0;32m      6\u001b[0m a\u001b[38;5;241m=\u001b[39mA()\n\u001b[1;32m----> 7\u001b[0m \u001b[43ma\u001b[49m\u001b[38;5;241;43m.\u001b[39;49m\u001b[43m__show\u001b[49m()\n",
      "\u001b[1;31mAttributeError\u001b[0m: 'A' object has no attribute '__show'"
     ]
    }
   ],
   "source": [
    "class A:\n",
    "    def __show(self):\n",
    "        return 88\n",
    "    def hh(self):\n",
    "        return 99\n",
    "a=A()\n",
    "a.__show() #private fun is not callable"
   ]
  },
  {
   "cell_type": "code",
   "execution_count": 14,
   "metadata": {},
   "outputs": [
    {
     "data": {
      "text/plain": [
       "188"
      ]
     },
     "execution_count": 14,
     "metadata": {},
     "output_type": "execute_result"
    }
   ],
   "source": [
    "class W:\n",
    "    def total(self):\n",
    "        return 88\n",
    "    def total2(self):\n",
    "        return 100+W.total(self)\n",
    "w=W()\n",
    "w.total2()"
   ]
  },
  {
   "cell_type": "code",
   "execution_count": 19,
   "metadata": {},
   "outputs": [
    {
     "name": "stdout",
     "output_type": "stream",
     "text": [
      "Total buildings: 3\n",
      "Total floor: 6\n",
      "Total room: 30\n",
      "Teacher 20\n",
      "Students 10\n",
      "Fees 30k\n"
     ]
    }
   ],
   "source": [
    "class college:\n",
    "    def __init__(self, building, floor, room):\n",
    "        self.building = building\n",
    "        self.floor = floor\n",
    "        self.room = room\n",
    "\n",
    "    def show_info(self):\n",
    "        print('Total buildings:', self.building)\n",
    "        print('Total floor:', self.floor)\n",
    "        print('Total room:', self.room)\n",
    "\n",
    "class college2(college):\n",
    "    def __init__(self, building, floor, room, teachers, students, fees):\n",
    "        super().__init__(building, floor, room)\n",
    "        self.teachers = teachers\n",
    "        self.students = students\n",
    "        self.fees = fees\n",
    "    def full_info(self):\n",
    "        college.show_info(self)\n",
    "        print('Teacher', self.teachers)\n",
    "        print('Students', self.students)\n",
    "        print('Fees', self.fees)\n",
    "        \n",
    "x = college2(3, 6, 30, 20, 10, '30k')\n",
    "x.full_info()"
   ]
  },
  {
   "cell_type": "code",
   "execution_count": null,
   "metadata": {},
   "outputs": [],
   "source": []
  },
  {
   "cell_type": "code",
   "execution_count": null,
   "metadata": {},
   "outputs": [],
   "source": [
    "# write a program to create a list of students records and search record using dict\n",
    "\n",
    "def student_records():\n",
    "    students = []\n",
    "    n= int(input('enter the number of students:'))\n",
    "    for i in range(n):\n",
    "        student = {}\n",
    "        student['id']"
   ]
  },
  {
   "cell_type": "code",
   "execution_count": null,
   "metadata": {},
   "outputs": [
    {
     "name": "stdout",
     "output_type": "stream",
     "text": [
      "Class A\n",
      "class B\n"
     ]
    }
   ],
   "source": [
    "# polymorphism\n",
    "class A:\n",
    "    def show(self):\n",
    "        print('Class A')\n",
    "\n",
    "class B(A):\n",
    "    def show(self):\n",
    "        super().show()\n",
    "        print('class B')\n",
    "b= B()\n",
    "b.show()"
   ]
  },
  {
   "cell_type": "code",
   "execution_count": 10,
   "metadata": {},
   "outputs": [],
   "source": [
    "#Q7.create a database using list and tuple\n",
    "data = [\n",
    "    (1,\"Rohan\",22,\"Math\"),\n",
    "    (2,\"Rashmi\",23,\"science\"),\n",
    "    (3,\"sumit sharma\",22,\"Hindi\")]"
   ]
  },
  {
   "cell_type": "code",
   "execution_count": 13,
   "metadata": {},
   "outputs": [
    {
     "data": {
      "text/plain": [
       "[(1, 'Rohan', 22, 'Math'),\n",
       " (2, 'Rashmi', 23, 'science'),\n",
       " (3, 'sumit sharma', 22, 'Hindi'),\n",
       " (4, 'anish', 25, 'math'),\n",
       " (4, 'anish', 25, 'math')]"
      ]
     },
     "execution_count": 13,
     "metadata": {},
     "output_type": "execute_result"
    }
   ],
   "source": [
    "data"
   ]
  },
  {
   "cell_type": "code",
   "execution_count": 12,
   "metadata": {},
   "outputs": [
    {
     "name": "stdout",
     "output_type": "stream",
     "text": [
      "id | Name        |Age | Subject\n",
      "--------------------------------------\n",
      "1  |Rohan          |22 |Math\n",
      "2  |Rashmi         |23 |science\n",
      "3  |sumit sharma   |22 |Hindi\n",
      "4  |anish          |25 |math\n",
      "4  |anish          |25 |math\n"
     ]
    }
   ],
   "source": [
    "def display(database):\n",
    "    print(\"id | Name        |Age | Subject\")\n",
    "    print(\"--------------------------------------\")\n",
    "    for i in range(len(database)):\n",
    "        print(f\"{database[i][0]:<3}|{database[i][1]:<15}|{database[i][2]:<3}|{database[i][3]}\")\n",
    "\n",
    "def add_data(data,id,name,age,subject):\n",
    "    data.append((id,name,age,subject))\n",
    "\n",
    "add_data(data,4,\"anish\",25,\"math\")\n",
    "display(data)"
   ]
  },
  {
   "cell_type": "code",
   "execution_count": 15,
   "metadata": {},
   "outputs": [
    {
     "name": "stdout",
     "output_type": "stream",
     "text": [
      "id | Name        |Age | Subject\n",
      "--------------------------------------\n",
      "1  |Rohan          |22 |Math\n",
      "2  |Rashmi         |23 |science\n",
      "3  |sumit sharma   |22 |Hindi\n",
      "4  |anish          |25 |math\n",
      "4  |anish          |25 |math\n"
     ]
    }
   ],
   "source": [
    "ss= data.copy()\n",
    "def delete_by_id(x,id):\n",
    "    x.pop(id-1)\n",
    "display(data)"
   ]
  },
  {
   "cell_type": "code",
   "execution_count": 17,
   "metadata": {},
   "outputs": [],
   "source": [
    "# file handling\n",
    "file =open('A4', 'w')\n",
    "file.write('this is file handling\\n')\n",
    "file.close()"
   ]
  },
  {
   "cell_type": "code",
   "execution_count": null,
   "metadata": {},
   "outputs": [
    {
     "name": "stdout",
     "output_type": "stream",
     "text": [
      "this is file handling\n",
      "\n"
     ]
    }
   ],
   "source": [
    "# file handling\n",
    "file =open('A4', 'r')\n",
    "print(file.read())\n",
    "file.close()"
   ]
  },
  {
   "cell_type": "code",
   "execution_count": 24,
   "metadata": {},
   "outputs": [
    {
     "name": "stdout",
     "output_type": "stream",
     "text": [
      "this is file handling\n",
      "i love python\n",
      "i am learning python\n",
      "i love python\n",
      "i am learning python\n",
      "i love python\n",
      "i am learning python\n",
      "i love python\n",
      "i am learning python\n",
      "i love python\n",
      "i am learning python\n",
      "\n"
     ]
    }
   ],
   "source": [
    "# file handling\n",
    "file =open('A4', 'a')\n",
    "file.write('i love python\\n')\n",
    "file.write('i am learning python\\n')\n",
    "file.close()\n",
    "\n",
    "# file handling\n",
    "file =open('A4', 'r')\n",
    "print(file.read())\n",
    "file.close()\n",
    "\n"
   ]
  },
  {
   "cell_type": "code",
   "execution_count": 25,
   "metadata": {},
   "outputs": [
    {
     "name": "stdout",
     "output_type": "stream",
     "text": [
      "this is file handling\n",
      "\n",
      "i love python\n",
      "\n"
     ]
    }
   ],
   "source": [
    "#print only 1st line of the file\n",
    "file = open(\"A4\",\"r\")\n",
    "print(file.readline())\n",
    "print(file.readline())\n",
    "file.close()"
   ]
  },
  {
   "cell_type": "code",
   "execution_count": null,
   "metadata": {},
   "outputs": [
    {
     "name": "stdout",
     "output_type": "stream",
     "text": [
      "i am learning python\n",
      "\n"
     ]
    }
   ],
   "source": [
    "file = open(\"A4\",\"r\")\n",
    "print(file.readlines()[2]) # we can print any line but only 1 line can be printed\n",
    "file.close()"
   ]
  },
  {
   "cell_type": "code",
   "execution_count": null,
   "metadata": {},
   "outputs": [
    {
     "name": "stdout",
     "output_type": "stream",
     "text": [
      "this is file handling\n",
      "\n",
      "i am learning python\n",
      "\n"
     ]
    }
   ],
   "source": [
    "file = open(\"A4\",\"r\")\n",
    "f=file.readlines() #to print more than 1 line we assign readline value in variable now we print variable multiple times\n",
    "print(f[0])\n",
    "print(f[2])\n",
    "file.close()"
   ]
  },
  {
   "cell_type": "code",
   "execution_count": 3,
   "metadata": {},
   "outputs": [],
   "source": [
    "file=open(\"test\",\"w\")\n",
    "file.write(\"1 we are learning file handling \\n\")\n",
    "file.write(\"2 the file handling is use to handle the file in each and every way possible \\n\")\n",
    "file.write(\"3 in the file handling we can create a text file and can also insert lines in the file \\n\")\n",
    "file.write(\"4 the basic syntax of the file handling is variable name = open('file_name', 'w'\\n)\")\n",
    "file.write(\"5 mode 'w' is use to write or insert any line in the file\\n\")\n",
    "file.write(\"6 the syntax for append a line variable_name = open('file_name', 'a')\\n\")\n",
    "file.close()"
   ]
  },
  {
   "cell_type": "code",
   "execution_count": 4,
   "metadata": {},
   "outputs": [
    {
     "name": "stdout",
     "output_type": "stream",
     "text": [
      "1 we are learning file handling \n",
      "2 the file handling is use to handle the file in each and every way possible \n",
      "3 in the file handling we can create a text file and can also insert lines in the file \n",
      "4 the basic syntax of the file handling is variable name = open('file_name', 'w'\n",
      ")5 mode 'w' is use to write or insert any line in the file\n",
      "6 the syntax for append a line variable_name = open('file_name', 'a')\n",
      "\n"
     ]
    }
   ],
   "source": [
    "file = open('test', 'r')\n",
    "print(file.read())\n",
    "file.close()"
   ]
  },
  {
   "cell_type": "code",
   "execution_count": 5,
   "metadata": {},
   "outputs": [
    {
     "name": "stdout",
     "output_type": "stream",
     "text": [
      "6 the syntax for append a line variable_name = open('file_name', 'a')\n",
      "\n"
     ]
    }
   ],
   "source": [
    "file = open('test', 'r')\n",
    "print(file.readlines()[5])\n",
    "file.close()"
   ]
  },
  {
   "cell_type": "code",
   "execution_count": 6,
   "metadata": {},
   "outputs": [
    {
     "name": "stdout",
     "output_type": "stream",
     "text": [
      "1 we are learning file handling \n",
      "\n",
      "3 in the file handling we can create a text file and can also insert lines in the file \n",
      "\n"
     ]
    }
   ],
   "source": [
    "file = open(\"test\",\"r\")\n",
    "f=file.readlines() #to print more than 1 line we assign readline value in variable now we print variable multiple times\n",
    "print(f[0])\n",
    "print(f[2])\n",
    "file.close()"
   ]
  },
  {
   "cell_type": "code",
   "execution_count": 17,
   "metadata": {},
   "outputs": [
    {
     "name": "stdout",
     "output_type": "stream",
     "text": [
      "1 we are learning \n",
      "2 the file handling \n",
      "3 in the file \n",
      "4 the basic syntax \n",
      ")5 mode 'w' is \n",
      "6 the syntax for \n"
     ]
    }
   ],
   "source": [
    "file = open(\"test\",\"r\")\n",
    "f=file.readlines()\n",
    "for i in f:\n",
    "    for j in  i.split()[0:4]:\n",
    "        print(j, end=' ')\n",
    "    print()\n",
    "    file.close()"
   ]
  },
  {
   "cell_type": "code",
   "execution_count": 21,
   "metadata": {},
   "outputs": [
    {
     "name": "stdout",
     "output_type": "stream",
     "text": [
      "learning handling \n",
      "handling handle every possible \n",
      "handling create insert lines \n",
      "basic syntax handling variable open('file_name', \n",
      "write insert \n",
      "syntax append variable_name open('file_name', \n"
     ]
    }
   ],
   "source": [
    "file = open(\"test\",\"r\")\n",
    "f=file.readlines()\n",
    "for i in f:\n",
    "    for j in  i.split():\n",
    "        if len(j)>4:\n",
    "            print(j, end=' ')\n",
    "    print()\n",
    "    file.close()"
   ]
  },
  {
   "cell_type": "code",
   "execution_count": 6,
   "metadata": {},
   "outputs": [
    {
     "name": "stdout",
     "output_type": "stream",
     "text": [
      "'a') )5 1 2 3 4 6 also any append are basic create each every for handle learning lines mode name of or possible text variable variable_name way write \n"
     ]
    }
   ],
   "source": [
    "# print all unique words in alphabetic order\n",
    "file = open(\"test\",\"r\")\n",
    "f=file.readlines()\n",
    "q = []\n",
    "for i in f:\n",
    "    for j in  i.split():\n",
    "        q.append(j)\n",
    "q.sort()\n",
    "for i in q:\n",
    "     if q.count(i)==1:\n",
    "            print(i, end=' ')\n",
    "print()\n",
    "file.close()"
   ]
  },
  {
   "cell_type": "code",
   "execution_count": 11,
   "metadata": {},
   "outputs": [],
   "source": [
    "# # update, delete, change a single word, delete a word\n",
    "# file = open(\"test\",\"r\")\n",
    "# f=file.readlines()\n",
    "# f[0] = f[0] + 'in the python'   #updating but new line comes in next line cause of \\n\n",
    "# print(f[0])\n",
    "# file.close()"
   ]
  },
  {
   "cell_type": "code",
   "execution_count": null,
   "metadata": {},
   "outputs": [],
   "source": [
    "# update, delete, change a single word, delete a word\n",
    "file = open(\"test\",\"r\")\n",
    "f=file.readlines()\n",
    "f[0] = f[0].replace(\"handling\", \"handling in the python\")\n",
    "file = open(\"test\", \"w\")\n",
    "for i in f:\n",
    "    file.write(i)\n",
    "file.close()"
   ]
  },
  {
   "cell_type": "code",
   "execution_count": 13,
   "metadata": {},
   "outputs": [
    {
     "name": "stdout",
     "output_type": "stream",
     "text": [
      "\n"
     ]
    }
   ],
   "source": [
    "file = open(\"test\",\"r\")\n",
    "print(file.read())\n",
    "file.close()\n"
   ]
  },
  {
   "cell_type": "code",
   "execution_count": null,
   "metadata": {},
   "outputs": [],
   "source": [
    "file = open(\"test\",\"r\")\n",
    "f=file.readlines()\n",
    "f[0] = f[0].upper()\n",
    "file = open(\"test\", \"w\")\n",
    "file.close()\n",
    "for i in f:\n",
    "    file.write(i)\n",
    "file.close()\n",
    "    \n",
    "\n"
   ]
  },
  {
   "cell_type": "code",
   "execution_count": 17,
   "metadata": {},
   "outputs": [
    {
     "name": "stdout",
     "output_type": "stream",
     "text": [
      "\n"
     ]
    }
   ],
   "source": [
    "file=open(\"test\", \"r\")\n",
    "print(file.read())\n",
    "file.close()"
   ]
  },
  {
   "cell_type": "code",
   "execution_count": null,
   "metadata": {},
   "outputs": [],
   "source": [
    "file = open(\"test\",\"r\")\n",
    "f=file.readlines()\n",
    "f.pop(-1)\n",
    "file = open(\"test\", \"w\")\n",
    "for i in f:\n",
    "    file.write(i)\n",
    "file.close()"
   ]
  },
  {
   "cell_type": "code",
   "execution_count": null,
   "metadata": {},
   "outputs": [],
   "source": [
    "file=open(\"test\", \"w\")\n",
    "print(file.read())\n",
    "file.close()"
   ]
  },
  {
   "cell_type": "code",
   "execution_count": null,
   "metadata": {},
   "outputs": [],
   "source": [
    "file = open(\"test\",\"r\")\n",
    "f=file.readlines()\n",
    "f=open(\"test\", \"w\")\n",
    "for i in f:\n",
    "    i=i[0:2] + i[2].upper() + i[3:]\n",
    "    file.write(i)\n",
    "file.close()"
   ]
  },
  {
   "cell_type": "code",
   "execution_count": 20,
   "metadata": {},
   "outputs": [
    {
     "name": "stdout",
     "output_type": "stream",
     "text": [
      "\n"
     ]
    }
   ],
   "source": [
    "file=open(\"test\", \"r\")\n",
    "print(file.read())\n",
    "file.close()"
   ]
  },
  {
   "cell_type": "code",
   "execution_count": null,
   "metadata": {},
   "outputs": [],
   "source": []
  },
  {
   "cell_type": "code",
   "execution_count": 21,
   "metadata": {},
   "outputs": [],
   "source": [
    "# W.A.P to implement an employee management system using class, instance and inheritance\n",
    "class database:\n",
    "    def row1(self, id, name, age, salary):\n",
    "        self.data=[]\n",
    "        self.data.append((id, name, age, salary))\n",
    "    def display_data(self):\n",
    "        print(\"ID | NAME | AGE | SALARY\")\n",
    "        print(\"-------------------------\")\n",
    "        for i in self.data:\n",
    "            print(f\"{i[0]:<3} | {i[1]:<15} | {i[2]:<3} | {i[3]}\")\n",
    "    def add_row(self,id,name,age,salary):\n",
    "        self.data.append(id,name,age,salary)\n",
    "    def delete_row(self,row):\n",
    "        self.pop(row-1)\n",
    "d=database()"
   ]
  },
  {
   "cell_type": "code",
   "execution_count": null,
   "metadata": {},
   "outputs": [],
   "source": []
  },
  {
   "cell_type": "code",
   "execution_count": null,
   "metadata": {},
   "outputs": [],
   "source": []
  },
  {
   "cell_type": "code",
   "execution_count": 1,
   "metadata": {},
   "outputs": [
    {
     "data": {
      "text/plain": [
       "2.0"
      ]
     },
     "execution_count": 1,
     "metadata": {},
     "output_type": "execute_result"
    }
   ],
   "source": [
    "import math as mt\n",
    "mt.sqrt(4) #square root of no.\n"
   ]
  }
 ],
 "metadata": {
  "kernelspec": {
   "display_name": "Python 3",
   "language": "python",
   "name": "python3"
  },
  "language_info": {
   "codemirror_mode": {
    "name": "ipython",
    "version": 3
   },
   "file_extension": ".py",
   "mimetype": "text/x-python",
   "name": "python",
   "nbconvert_exporter": "python",
   "pygments_lexer": "ipython3",
   "version": "3.12.4"
  }
 },
 "nbformat": 4,
 "nbformat_minor": 2
}
