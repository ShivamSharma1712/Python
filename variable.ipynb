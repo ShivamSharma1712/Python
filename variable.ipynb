{
 "cells": [
  {
   "cell_type": "code",
   "execution_count": 1,
   "metadata": {},
   "outputs": [
    {
     "name": "stdout",
     "output_type": "stream",
     "text": [
      "25 19.99 Alice True\n"
     ]
    }
   ],
   "source": [
    "# Integer variable\n",
    "age = 25\n",
    "\n",
    "# Float variable\n",
    "price = 19.99\n",
    "\n",
    "# String variable\n",
    "name = \"Alice\"\n",
    "\n",
    "# Boolean variable\n",
    "is_student = True\n",
    "\n",
    "print(age, price, name, is_student)\n"
   ]
  },
  {
   "cell_type": "code",
   "execution_count": 6,
   "metadata": {},
   "outputs": [
    {
     "name": "stdout",
     "output_type": "stream",
     "text": [
      "10 3.14 (2+3j)\n"
     ]
    }
   ],
   "source": [
    "a = 10       # int\n",
    "b = 3.14     # float\n",
    "c = 2 + 3j   # complex\n",
    "print(a,b,c)\n",
    "\n"
   ]
  },
  {
   "cell_type": "code",
   "execution_count": 9,
   "metadata": {},
   "outputs": [
    {
     "name": "stdout",
     "output_type": "stream",
     "text": [
      "Even number\n"
     ]
    }
   ],
   "source": [
    "# if-else statement \n",
    "num = 10\n",
    "if num % 2 == 0:\n",
    "    print(\"Even number\")\n",
    "else:\n",
    "    print(\"Odd number\")\n",
    "\n"
   ]
  },
  {
   "cell_type": "code",
   "execution_count": 10,
   "metadata": {},
   "outputs": [
    {
     "name": "stdout",
     "output_type": "stream",
     "text": [
      "Grade: B\n"
     ]
    }
   ],
   "source": [
    "# if-else-if statement \n",
    "marks = 85\n",
    "if marks >= 90:\n",
    "    print(\"Grade: A\")\n",
    "elif marks >= 75:\n",
    "    print(\"Grade: B\")\n",
    "elif marks >= 50:\n",
    "    print(\"Grade: C\")\n",
    "else:\n",
    "    print(\"Grade: F\")\n"
   ]
  },
  {
   "cell_type": "code",
   "execution_count": 13,
   "metadata": {},
   "outputs": [
    {
     "name": "stdout",
     "output_type": "stream",
     "text": [
      "The area of the rectangle is: 15\n"
     ]
    }
   ],
   "source": [
    "# User-defined function to calculate the area of a rectangle\n",
    "def calculate_area(length, width):\n",
    "    area = length * width\n",
    "    return area\n",
    "\n",
    "# Calling the user-defined function\n",
    "length = 5\n",
    "width = 3\n",
    "result = calculate_area(length, width)\n",
    "\n",
    "# Displaying the result\n",
    "print(\"The area of the rectangle is:\", result)\n"
   ]
  },
  {
   "cell_type": "code",
   "execution_count": 14,
   "metadata": {},
   "outputs": [
    {
     "name": "stdout",
     "output_type": "stream",
     "text": [
      "The factorial of 5 is: 120\n"
     ]
    }
   ],
   "source": [
    "# Recursive function to calculate the factorial of a number\n",
    "def factorial(n):\n",
    "    # Base case: factorial of 0 or 1 is 1\n",
    "    if n == 0 or n == 1:\n",
    "        return 1\n",
    "    # Recursive case\n",
    "    else:\n",
    "        return n * factorial(n - 1)\n",
    "\n",
    "# Calling the recursive function\n",
    "number = 5\n",
    "result = factorial(number)\n",
    "\n",
    "# Displaying the result\n",
    "print(f\"The factorial of {number} is: {result}\")\n"
   ]
  },
  {
   "cell_type": "code",
   "execution_count": 12,
   "metadata": {},
   "outputs": [
    {
     "name": "stdout",
     "output_type": "stream",
     "text": [
      "Hello, World!\n",
      "Length of the name: 5\n",
      "Sum of numbers: 15\n"
     ]
    }
   ],
   "source": [
    "# built in functions\n",
    "\n",
    "# Using print() to display text\n",
    "print(\"Hello, World!\")  # Output: Hello, World!\n",
    "\n",
    "# Using len() to get the length of a string\n",
    "name = \"Alice\"\n",
    "print(\"Length of the name:\", len(name))  # Output: 5\n",
    "\n",
    "# Using sum() to calculate the sum of a list of numbers\n",
    "numbers = [1, 2, 3, 4, 5]\n",
    "print(\"Sum of numbers:\", sum(numbers))  # Output: 15\n",
    "\n"
   ]
  },
  {
   "cell_type": "code",
   "execution_count": null,
   "metadata": {},
   "outputs": [],
   "source": []
  }
 ],
 "metadata": {
  "kernelspec": {
   "display_name": "Python 3",
   "language": "python",
   "name": "python3"
  },
  "language_info": {
   "codemirror_mode": {
    "name": "ipython",
    "version": 3
   },
   "file_extension": ".py",
   "mimetype": "text/x-python",
   "name": "python",
   "nbconvert_exporter": "python",
   "pygments_lexer": "ipython3",
   "version": "3.12.4"
  }
 },
 "nbformat": 4,
 "nbformat_minor": 2
}
