{
 "cells": [
  {
   "cell_type": "code",
   "execution_count": 6,
   "metadata": {},
   "outputs": [
    {
     "name": "stdout",
     "output_type": "stream",
     "text": [
      "square of 86 is: 7396\n",
      "cuberoot of 785 is: 9.224791357467582\n"
     ]
    }
   ],
   "source": [
    "#square:\n",
    "a=86\n",
    "print('square of 86 is:', a**2)\n",
    "\n",
    "#cuberoot of 785:\n",
    "b=785\n",
    "print('cuberoot of 785 is:', b**(1/3))"
   ]
  },
  {
   "cell_type": "code",
   "execution_count": 8,
   "metadata": {},
   "outputs": [
    {
     "name": "stdout",
     "output_type": "stream",
     "text": [
      "34 and 66 is equal to 100\n"
     ]
    }
   ],
   "source": [
    "# sum of 2 digits:\n",
    "num1=34\n",
    "num2=66\n",
    "sum=num1+num2\n",
    "print(f'{num1} and {num2} is equal to {sum}')"
   ]
  },
  {
   "cell_type": "code",
   "execution_count": null,
   "metadata": {},
   "outputs": [],
   "source": [
    "#15908 min into hours\n",
    "min = 15908\n",
    "hours = min / 60\n",
    "print(f'{min} minutes is equal to {hours} hours')\n"
   ]
  },
  {
   "cell_type": "code",
   "execution_count": 15,
   "metadata": {},
   "outputs": [
    {
     "name": "stdout",
     "output_type": "stream",
     "text": [
      "265.1333333333333 hours is equal to 6449 days\n"
     ]
    }
   ],
   "source": [
    "# 154783 hours to days\n",
    "hour=154783\n",
    "days=154783//24\n",
    "print(f'{hours} hours is equal to {days} days')"
   ]
  },
  {
   "cell_type": "code",
   "execution_count": 16,
   "metadata": {},
   "outputs": [
    {
     "name": "stdout",
     "output_type": "stream",
     "text": [
      "<class 'int'>\n",
      "<class 'float'>\n"
     ]
    }
   ],
   "source": [
    "h=\"95\"\n",
    "g= int(h)\n",
    "i=float(h)\n",
    "print(type(g))\n",
    "print(type(i))"
   ]
  },
  {
   "cell_type": "code",
   "execution_count": 19,
   "metadata": {},
   "outputs": [
    {
     "name": "stdout",
     "output_type": "stream",
     "text": [
      "55.0\n",
      "<class 'float'>\n"
     ]
    }
   ],
   "source": [
    "# input float value from user and check its type\n",
    "p=float(input('enter value of p'))\n",
    "print(p)\n",
    "print(type(p))"
   ]
  },
  {
   "cell_type": "code",
   "execution_count": 37,
   "metadata": {},
   "outputs": [
    {
     "name": "stdout",
     "output_type": "stream",
     "text": [
      "217935 55 24\n"
     ]
    }
   ],
   "source": [
    "#sec=784569324 to hrs, min and sec:\n",
    "sec=784569324  \n",
    "hours = sec // 3600\n",
    "min = (sec % 3600) // 60\n",
    "sec = sec % 60\n",
    "print(hours, min, sec)\n"
   ]
  },
  {
   "cell_type": "code",
   "execution_count": null,
   "metadata": {},
   "outputs": [],
   "source": [
    "\n",
    "\n",
    "# Q1 convert the whole string into upper case \n",
    "# Q2 find the index value of 2nd \"village\"\n",
    "\n",
    "# Q3 remove \"unique identifier for each village from the string\n",
    "\n",
    "# 04 print the count of \"village\"\n",
    "\n",
    "# 05 split whole string using \"block\"\n",
    "\n",
    "# Q6 extract \"Since village name may not be unique from string\n",
    "\n",
    "\n",
    "\n",
    "\n"
   ]
  },
  {
   "cell_type": "code",
   "execution_count": 43,
   "metadata": {},
   "outputs": [
    {
     "name": "stdout",
     "output_type": "stream",
     "text": [
      "SHIVAM\n"
     ]
    },
    {
     "data": {
      "text/plain": [
       "-1"
      ]
     },
     "execution_count": 43,
     "metadata": {},
     "output_type": "execute_result"
    }
   ],
   "source": [
    "st = \"\"\"Each row contains a unique village, the block containg the village and the district containing the block. Since village nmae may not be unique, the field village \n",
    "code is used as the unique identifier for each village.\n",
    "Primary key: village code child_register Contains the information of th\"\"\"\n",
    "print(st.upper())\n",
    "\n"
   ]
  },
  {
   "cell_type": "code",
   "execution_count": null,
   "metadata": {},
   "outputs": [],
   "source": [
    "st.find('village', 28)\n",
    "r='unique identifier for each village'\n",
    "st.replace('unique identifier for each village', '')\n"
   ]
  },
  {
   "cell_type": "code",
   "execution_count": null,
   "metadata": {},
   "outputs": [],
   "source": [
    "str='shivam'\n",
    "print(str.upper())\n",
    "\n",
    "str.find('village', 28)\n"
   ]
  },
  {
   "cell_type": "code",
   "execution_count": null,
   "metadata": {},
   "outputs": [],
   "source": [
    " "
   ]
  },
  {
   "cell_type": "code",
   "execution_count": null,
   "metadata": {},
   "outputs": [],
   "source": []
  },
  {
   "cell_type": "code",
   "execution_count": null,
   "metadata": {},
   "outputs": [],
   "source": []
  },
  {
   "cell_type": "code",
   "execution_count": null,
   "metadata": {},
   "outputs": [],
   "source": []
  },
  {
   "cell_type": "code",
   "execution_count": null,
   "metadata": {},
   "outputs": [],
   "source": []
  }
 ],
 "metadata": {
  "kernelspec": {
   "display_name": "Python 3",
   "language": "python",
   "name": "python3"
  },
  "language_info": {
   "codemirror_mode": {
    "name": "ipython",
    "version": 3
   },
   "file_extension": ".py",
   "mimetype": "text/x-python",
   "name": "python",
   "nbconvert_exporter": "python",
   "pygments_lexer": "ipython3",
   "version": "3.12.4"
  }
 },
 "nbformat": 4,
 "nbformat_minor": 2
}
