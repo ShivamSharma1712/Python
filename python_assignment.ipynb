{
 "cells": [
  {
   "cell_type": "code",
   "execution_count": 29,
   "metadata": {},
   "outputs": [
    {
     "name": "stdout",
     "output_type": "stream",
     "text": [
      "Number of vowels: 2\n"
     ]
    }
   ],
   "source": [
    "#Q1. Write a Python program that takes a string input \n",
    "# from the user and prints the number of vowels \n",
    "# (a, e, i, o, u) in the string.\n",
    "\n",
    "\n",
    "s = input(\"Enter a string: \")\n",
    "vow = 0\n",
    "\n",
    "for i in s:\n",
    "    if i.lower() in 'aeiou':\n",
    "        vow = vow +1\n",
    "print(\"Number of vowels:\", vow)"
   ]
  },
  {
   "cell_type": "code",
   "execution_count": 36,
   "metadata": {},
   "outputs": [
    {
     "ename": "TypeError",
     "evalue": "'list' object is not callable",
     "output_type": "error",
     "traceback": [
      "\u001b[1;31m---------------------------------------------------------------------------\u001b[0m",
      "\u001b[1;31mTypeError\u001b[0m                                 Traceback (most recent call last)",
      "Cell \u001b[1;32mIn[36], line 10\u001b[0m\n\u001b[0;32m      1\u001b[0m \u001b[38;5;66;03m# Input F = [1,2,4,2,4,5,9,8,7,9]\u001b[39;00m\n\u001b[0;32m      2\u001b[0m \u001b[38;5;66;03m# Write a Python program that takes a list of numbers \u001b[39;00m\n\u001b[0;32m      3\u001b[0m \u001b[38;5;66;03m# from the user, removes duplicates, and prints the \u001b[39;00m\n\u001b[1;32m   (...)\u001b[0m\n\u001b[0;32m      7\u001b[0m \u001b[38;5;66;03m# Take input and convert it into a list of integers\u001b[39;00m\n\u001b[0;32m      8\u001b[0m \u001b[38;5;66;03m# map function in Python is used to apply a function to each item in an iterable (like a list).\u001b[39;00m\n\u001b[0;32m      9\u001b[0m user \u001b[38;5;241m=\u001b[39m \u001b[38;5;28minput\u001b[39m(\u001b[38;5;124m\"\u001b[39m\u001b[38;5;124mEnter numbers separated by spaces: \u001b[39m\u001b[38;5;124m\"\u001b[39m)\n\u001b[1;32m---> 10\u001b[0m lister1 \u001b[38;5;241m=\u001b[39m \u001b[38;5;28;43mlist\u001b[39;49m\u001b[43m(\u001b[49m\u001b[38;5;28;43mmap\u001b[39;49m\u001b[43m(\u001b[49m\u001b[38;5;28;43mint\u001b[39;49m\u001b[43m,\u001b[49m\u001b[43m \u001b[49m\u001b[43muser\u001b[49m\u001b[38;5;241;43m.\u001b[39;49m\u001b[43msplit\u001b[49m\u001b[43m(\u001b[49m\u001b[43m)\u001b[49m\u001b[43m)\u001b[49m\u001b[43m)\u001b[49m\n\u001b[0;32m     14\u001b[0m \u001b[38;5;66;03m# Remove duplicates and sort the list\u001b[39;00m\n\u001b[0;32m     15\u001b[0m list2 \u001b[38;5;241m=\u001b[39m \u001b[38;5;28msorted\u001b[39m(\u001b[38;5;28mset\u001b[39m(lister1))\n",
      "\u001b[1;31mTypeError\u001b[0m: 'list' object is not callable"
     ]
    }
   ],
   "source": [
    "# Input F = [1,2,4,2,4,5,9,8,7,9]\n",
    "# Write a Python program that takes a list of numbers \n",
    "# from the user, removes duplicates, and prints the \n",
    "# sorted list in ascending order.\n",
    "# Excepted output = [1, 2, 4, 5, 7, 8, 9]\n",
    "\n",
    "# Take input and convert it into a list of integers\n",
    "# map function in Python is used to apply a function to each item in an iterable (like a list).\n",
    "user = input(\"Enter numbers separated by spaces: \")\n",
    "lister1 = list(map(int, user.split()))\n",
    "\n",
    "\n",
    "\n",
    "# Remove duplicates and sort the list\n",
    "list2 = sorted(set(lister1))\n",
    "\n",
    "# Print the sorted list\n",
    "print(list2)\n",
    "\n"
   ]
  },
  {
   "cell_type": "code",
   "execution_count": 7,
   "metadata": {},
   "outputs": [
    {
     "name": "stdout",
     "output_type": "stream",
     "text": [
      "Smallest: -1\n",
      "Largest: 9\n"
     ]
    }
   ],
   "source": [
    "# Input: t = (-1,1,2,3,0,4,5,9)\n",
    "# Write a Python program that takes a tuple of \n",
    "# numbers, then prints the largest and smallest \n",
    "# number in the tuple.\n",
    "# Expected output\n",
    "# smallest -1\n",
    "# largest = 9\n",
    "\n",
    "t = (-1, 1, 2, 3, 0, 4, 5, 9)\n",
    "\n",
    "# Find the smallest and largest numbers\n",
    "smallest = min(t)\n",
    "largest = max(t)\n",
    "\n",
    "# Print the results\n",
    "print(\"Smallest:\", smallest)\n",
    "print(\"Largest:\", largest)\n"
   ]
  },
  {
   "cell_type": "code",
   "execution_count": null,
   "metadata": {},
   "outputs": [],
   "source": [
    "# Input: t = (-1,1,2,3,0,4,5,9)\n",
    "# Write a Python program that takes a tuple of \n",
    "# numbers, then prints the largest and smallest \n",
    "# number in the tuple.\n",
    "# Expected output\n",
    "# smallest -1\n",
    "# largest = 9\n",
    "\n",
    "# Get input from the user\n",
    "input_string = input(\"Enter numbers separated by commas: \")\n",
    "\n",
    "# Convert the input string into a tuple of integers\n",
    "t = tuple(map(int, input_string.split(',')))\n",
    "\n",
    "# Find the smallest and largest numbers\n",
    "smallest = min(t)\n",
    "largest = max(t)\n",
    "\n",
    "# Print the results\n",
    "print(\"Smallest:\", smallest)\n",
    "print(\"Largest:\", largest)\n"
   ]
  },
  {
   "cell_type": "code",
   "execution_count": 8,
   "metadata": {},
   "outputs": [
    {
     "name": "stdout",
     "output_type": "stream",
     "text": [
      "1\n",
      "2\n",
      "Fizz\n",
      "4\n",
      "Buzz\n",
      "Fizz\n",
      "7\n",
      "8\n",
      "Fizz\n",
      "Buzz\n",
      "11\n",
      "Fizz\n",
      "13\n",
      "14\n",
      "FizzBuzz\n",
      "16\n",
      "17\n",
      "Fizz\n",
      "19\n",
      "Buzz\n",
      "Fizz\n",
      "22\n",
      "23\n",
      "Fizz\n",
      "Buzz\n",
      "26\n",
      "Fizz\n",
      "28\n",
      "29\n",
      "FizzBuzz\n",
      "31\n",
      "32\n",
      "Fizz\n",
      "34\n",
      "Buzz\n",
      "Fizz\n",
      "37\n",
      "38\n",
      "Fizz\n",
      "Buzz\n",
      "41\n",
      "Fizz\n",
      "43\n",
      "44\n",
      "FizzBuzz\n",
      "46\n",
      "47\n",
      "Fizz\n",
      "49\n",
      "Buzz\n",
      "Fizz\n",
      "52\n",
      "53\n",
      "Fizz\n",
      "Buzz\n",
      "56\n",
      "Fizz\n",
      "58\n",
      "59\n",
      "FizzBuzz\n",
      "61\n",
      "62\n",
      "Fizz\n",
      "64\n",
      "Buzz\n",
      "Fizz\n",
      "67\n",
      "68\n",
      "Fizz\n",
      "Buzz\n",
      "71\n",
      "Fizz\n",
      "73\n",
      "74\n",
      "FizzBuzz\n",
      "76\n",
      "77\n",
      "Fizz\n",
      "79\n",
      "Buzz\n",
      "Fizz\n",
      "82\n",
      "83\n",
      "Fizz\n",
      "Buzz\n",
      "86\n",
      "Fizz\n",
      "88\n",
      "89\n",
      "FizzBuzz\n",
      "91\n",
      "92\n",
      "Fizz\n",
      "94\n",
      "Buzz\n",
      "Fizz\n",
      "97\n",
      "98\n",
      "Fizz\n",
      "Buzz\n"
     ]
    }
   ],
   "source": [
    "# 4 Write a Python program to print all numbers from 1 \n",
    "# to 100. \n",
    "# For multiples of 3, print \"Fizz\" instead of \n",
    "# the number, and for multiples of 5, print \"Buzz\". \n",
    "# For numbers which are multiples of both 3 and 5, \n",
    "# print \"FizzBuzz\".\n",
    "\n",
    "# Print numbers from 1 to 100\n",
    "for num in range(1, 101):\n",
    "    if num % 3 == 0 and num % 5 == 0:\n",
    "        print(\"FizzBuzz\")  # For multiples of both 3 and 5\n",
    "    elif num % 3 == 0:\n",
    "        print(\"Fizz\")      # For multiples of 3\n",
    "    elif num % 5 == 0:\n",
    "        print(\"Buzz\")      # For multiples of 5\n",
    "    else:\n",
    "        print(num)         # Print the number itself\n"
   ]
  },
  {
   "cell_type": "code",
   "execution_count": 25,
   "metadata": {},
   "outputs": [
    {
     "name": "stdout",
     "output_type": "stream",
     "text": [
      "    *\n",
      "   * *\n",
      "  * * *\n",
      " * * * *\n",
      "* * * * *\n"
     ]
    }
   ],
   "source": [
    "#Q7. \n",
    "def main():\n",
    "    n = 5\n",
    "\n",
    "    for i in range(1, n + 1):\n",
    "        # Print leading spaces\n",
    "        for j in range(1, n - i + 1):\n",
    "            print(\" \", end=\"\")\n",
    "\n",
    "        # Print alternating stars and spaces\n",
    "        for k in range(1, 2 * i):\n",
    "            if k % 2 == 1:\n",
    "                print(\"*\", end=\"\")\n",
    "            else:\n",
    "                print(\" \", end=\"\")\n",
    "\n",
    "        print()  # Move to the next line\n",
    "\n",
    "if __name__ == \"__main__\":\n",
    "    main()"
   ]
  },
  {
   "cell_type": "code",
   "execution_count": 5,
   "metadata": {},
   "outputs": [
    {
     "name": "stdout",
     "output_type": "stream",
     "text": [
      "Maximum value is: 65.0\n",
      "Minimum value is: 5.0\n",
      "Average value is: 27.8\n"
     ]
    }
   ],
   "source": [
    "# Q6. Write a Python program to find the largest element, \n",
    "# minimum element without using min() and max() \n",
    "# function and the average of the list .\n",
    "\n",
    "l = []\n",
    "n = int(input(\"Enter the number of values you want to enter in the list: \"))\n",
    "for i in range(n):\n",
    "    val = float(input(\"Enter a number: \"))\n",
    "    l.append(val)\n",
    "\n",
    "l.sort()\n",
    "maximum = l[-1]\n",
    "minimum = l[0]\n",
    "average = sum(l) / n\n",
    "\n",
    "print(\"Maximum value is:\", maximum)\n",
    "print(\"Minimum value is:\", minimum)\n",
    "print(\"Average value is:\", average)\n",
    "\n",
    "\n",
    "\n"
   ]
  },
  {
   "cell_type": "code",
   "execution_count": 22,
   "metadata": {},
   "outputs": [
    {
     "name": "stdout",
     "output_type": "stream",
     "text": [
      "Minimum value: 1\n",
      "Maximum value: 8\n",
      "Average value: 4.625\n"
     ]
    }
   ],
   "source": [
    "# Q6: take two list, concatenate them, find min and max value without using min & max functions, and find average also\n",
    "def fun():\n",
    "    list1 = [1, 2, 3, 4]\n",
    "    list2 = [5, 6, 7, 8]\n",
    "    \n",
    "    list3 = list1 + list2  \n",
    "    \n",
    "    min = list3[0]\n",
    "    max = list3[0]\n",
    "    total=list3[0]\n",
    "    \n",
    "   \n",
    "    for i in list3:\n",
    "        if i < min:\n",
    "            min = i\n",
    "        if i > max:\n",
    "            max = i\n",
    "        total += i\n",
    "    average = total / len(list3)\n",
    "\n",
    "            \n",
    "    print(\"Minimum value:\", min)\n",
    "    print(\"Maximum value:\", max)\n",
    "    print('Average value:',average)\n",
    "\n",
    "\n",
    "fun()\n"
   ]
  },
  {
   "cell_type": "code",
   "execution_count": 39,
   "metadata": {},
   "outputs": [
    {
     "name": "stdout",
     "output_type": "stream",
     "text": [
      "321\n"
     ]
    }
   ],
   "source": [
    "#Q8. reverse of a no.\n",
    "def reverse():\n",
    "    num = int(input(\"Enter a number: \"))\n",
    "    reverse= 0\n",
    "    while num > 0:\n",
    "        rem = num % 10\n",
    "        reverse = reverse * 10 + rem\n",
    "        num = num // 10\n",
    "    print(reverse)\n",
    "\n",
    "\n",
    "\n",
    "reverse()\n"
   ]
  },
  {
   "cell_type": "code",
   "execution_count": 1,
   "metadata": {},
   "outputs": [
    {
     "name": "stdout",
     "output_type": "stream",
     "text": [
      "The cube root of number is: 2.924017738212866\n"
     ]
    }
   ],
   "source": [
    "# Write a program to calculate these followings\n",
    "# statements.\n",
    "\n",
    "# If number is more than 100 and even calculate\n",
    "# square. \n",
    "\n",
    "# if number is more than 100 and odd calculate square root.\n",
    "\n",
    "# if number is less than 100 and even calculate cube.\n",
    "\n",
    "# if number is less than 100 and odd calculate cube root\n",
    "\n",
    "\n",
    "def calculate():\n",
    "\n",
    "    number = float(input(\"Enter a number: \"))\n",
    "\n",
    "    if number > 100:\n",
    "        if number % 2 == 0:  # Even\n",
    "\n",
    "            result = number ** 2  # Calculate square\n",
    "\n",
    "            print('square of no. is:', result)\n",
    "\n",
    "        else:  # Odd\n",
    "            result = number ** (1/2)  # Calculate square root\n",
    "            print(\"The square root of no is:\", result)\n",
    "            \n",
    "    else:\n",
    "        if number % 2 == 0:  # Even\n",
    "            result =  number ** (3)  # Calculate cube\n",
    "            print(\"The cube of number is:\", result)\n",
    "        else:  # Odd\n",
    "            result = number ** (1/3)  # Calculate cube root\n",
    "            print(\"The cube root of number is:\", result)\n",
    "\n",
    "\n",
    "\n",
    "calculate()\n",
    "\n"
   ]
  },
  {
   "cell_type": "code",
   "execution_count": 42,
   "metadata": {},
   "outputs": [
    {
     "name": "stdout",
     "output_type": "stream",
     "text": [
      "Number of digits: 9\n"
     ]
    }
   ],
   "source": [
    "#Q11\n",
    "# Write a program to count the number of digit of the\n",
    "# given variable using while loop\n",
    "# F = 474589658\n",
    "\n",
    "F = 474589658\n",
    "\n",
    "# Initialize the count of digits\n",
    "count = 0\n",
    "\n",
    "# Use a while loop to count the digits\n",
    "while F > 0:\n",
    "    F = F // 10  # Divide F by 10\n",
    "    count += 1   # Increment the count\n",
    "\n",
    "# Print the number of digits\n",
    "print(\"Number of digits:\", count)\n"
   ]
  },
  {
   "cell_type": "code",
   "execution_count": null,
   "metadata": {},
   "outputs": [],
   "source": [
    "#Q12 REVERSE OF NUMBER Without taking input:\n",
    "#  Given variable\n",
    "a = 73205\n",
    "\n",
    "# Initialize the variable to store the reversed number\n",
    "g = 0\n",
    "\n",
    "# Use a while loop to reverse the number\n",
    "while a > 0:\n",
    "    digit = a % 10              # Get the last digit of a\n",
    "    g = g * 10 + digit          # Build the reversed number\n",
    "    a = a // 10                 # Remove the last digit from a\n",
    "\n",
    "# Print the reversed number\n",
    "print(\"Reversed number:\", g)\n"
   ]
  }
 ],
 "metadata": {
  "kernelspec": {
   "display_name": "Python 3",
   "language": "python",
   "name": "python3"
  },
  "language_info": {
   "codemirror_mode": {
    "name": "ipython",
    "version": 3
   },
   "file_extension": ".py",
   "mimetype": "text/x-python",
   "name": "python",
   "nbconvert_exporter": "python",
   "pygments_lexer": "ipython3",
   "version": "3.12.4"
  }
 },
 "nbformat": 4,
 "nbformat_minor": 2
}
