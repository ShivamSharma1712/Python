{
 "cells": [
  {
   "cell_type": "code",
   "execution_count": 11,
   "metadata": {},
   "outputs": [],
   "source": [
    "file=open(\"test\",\"w\")\n",
    "file.write(\"1 we are learning file handling \\n\")\n",
    "file.write(\"2 the file handling is use to handle the file in each and every way possible \\n\")\n",
    "file.write(\"3 in the file handling we can create a text file and can also insert lines in the file \\n\")\n",
    "file.write(\"4 the basic syntax of the file handling is variable name = open('file_name', 'w'\\n\")\n",
    "file.write(\"5 mode 'w' is use to write or insert any line in the file\\n\")\n",
    "file.write(\"6 the syntax for append a line variable_name = open('file_name', 'a')\\n\")\n",
    "file.close()"
   ]
  },
  {
   "cell_type": "code",
   "execution_count": 12,
   "metadata": {},
   "outputs": [
    {
     "name": "stdout",
     "output_type": "stream",
     "text": [
      "1 we are learning file handling \n",
      "2 the file handling is use to handle the file in each and every way possible \n",
      "3 in the file handling we can create a text file and can also insert lines in the file \n",
      "4 the basic syntax of the file handling is variable name = open('file_name', 'w'\n",
      "5 mode 'w' is use to write or insert any line in the file\n",
      "6 the syntax for append a line variable_name = open('file_name', 'a')\n",
      "\n"
     ]
    }
   ],
   "source": [
    "file = open('test', 'r')\n",
    "print(file.read())\n",
    "file.close()"
   ]
  },
  {
   "cell_type": "code",
   "execution_count": 13,
   "metadata": {},
   "outputs": [],
   "source": [
    "file = open(\"test\",\"r\")\n",
    "f=file.readlines()\n",
    "file = open(\"test\",\"w\")\n",
    "for i in f:\n",
    "    i = i.replace(\"file\", \"FILE\")\n",
    "    file.write(i)\n",
    "file.close()\n",
    "   \n",
    "    "
   ]
  },
  {
   "cell_type": "code",
   "execution_count": 14,
   "metadata": {},
   "outputs": [
    {
     "name": "stdout",
     "output_type": "stream",
     "text": [
      "1 we are learning FILE handling \n",
      "2 the FILE handling is use to handle the FILE in each and every way possible \n",
      "3 in the FILE handling we can create a text FILE and can also insert lines in the FILE \n",
      "4 the basic syntax of the FILE handling is variable name = open('FILE_name', 'w'\n",
      "5 mode 'w' is use to write or insert any line in the FILE\n",
      "6 the syntax for append a line variable_name = open('FILE_name', 'a')\n",
      "\n"
     ]
    }
   ],
   "source": [
    "file = open(\"test\",\"r\")\n",
    "print(file.read())\n",
    "file.close()"
   ]
  },
  {
   "cell_type": "code",
   "execution_count": 15,
   "metadata": {},
   "outputs": [
    {
     "name": "stdout",
     "output_type": "stream",
     "text": [
      "1 we are learning handling \n",
      "\n",
      "2 the handling is use to handle the in each and every way possible \n",
      "\n",
      "3 in the handling we can create a text and can also insert lines in the \n",
      "\n",
      "4 the basic syntax of the handling is variable name = open('FILE_name', 'w'\n",
      "\n",
      "5 mode 'w' is use to write or insert any line in the FILE\n",
      "\n",
      "6 the syntax for append a line variable_name = open('FILE_name', 'a')\n",
      "\n"
     ]
    }
   ],
   "source": [
    "file = open(\"test\",\"r\")\n",
    "f=file.readlines()\n",
    "for i in f:\n",
    "    i= i.replace(\" FILE \", \" \")\n",
    "    print(i)\n",
    "file.close()"
   ]
  },
  {
   "cell_type": "code",
   "execution_count": 26,
   "metadata": {},
   "outputs": [],
   "source": [
    "file = open(\"test\",\"r\")\n",
    "f=file.readlines()\n",
    "file = open(\"test\",\"w\")\n",
    "for i in f:\n",
    "    i=i[1::]\n",
    "    file.write(i)\n",
    "file.close()"
   ]
  },
  {
   "cell_type": "code",
   "execution_count": 27,
   "metadata": {},
   "outputs": [
    {
     "name": "stdout",
     "output_type": "stream",
     "text": [
      "\n"
     ]
    }
   ],
   "source": [
    "file = open(\"test\",\"r\")\n",
    "print(file.read())\n",
    "file.close()"
   ]
  },
  {
   "cell_type": "code",
   "execution_count": 14,
   "metadata": {},
   "outputs": [],
   "source": [
    "# add line at the start of the file\n",
    "file = open(\"test\",\"r\")\n",
    "f=file.readlines()\n",
    "file = open(\"test\",\"w\")\n",
    "for i in f:\n",
    "    \n",
    "    print(i[1::])\n",
    "    file.write(i)\n",
    "file.close()"
   ]
  },
  {
   "cell_type": "code",
   "execution_count": 24,
   "metadata": {},
   "outputs": [],
   "source": [
    "# q11 create a text file myfile in python and ask the user to write seperate 3 lines with 3 input statements from the user\n",
    "file = open(\"myfile\", \"w\")\n",
    "n1 = input('enter 1st staement')\n",
    "n2 = input('enter 2nd staement')\n",
    "n3 = input('enter 3rd staement')\n",
    "file.write(n1 + \"\\n\")\n",
    "file.write(n2 + \"\\n\")\n",
    "file.write(n3 + \"\\n\")\n",
    "file.close()"
   ]
  },
  {
   "cell_type": "code",
   "execution_count": 25,
   "metadata": {},
   "outputs": [
    {
     "name": "stdout",
     "output_type": "stream",
     "text": [
      "hello\n",
      "hi\n",
      "good\n",
      "\n"
     ]
    }
   ],
   "source": [
    "file = open(\"myfile\", \"r\")\n",
    "print(file.read())\n",
    "file.close()"
   ]
  },
  {
   "cell_type": "code",
   "execution_count": null,
   "metadata": {},
   "outputs": [
    {
     "ename": "IndexError",
     "evalue": "list index out of range",
     "output_type": "error",
     "traceback": [
      "\u001b[1;31m---------------------------------------------------------------------------\u001b[0m",
      "\u001b[1;31mIndexError\u001b[0m                                Traceback (most recent call last)",
      "Cell \u001b[1;32mIn[9], line 4\u001b[0m\n\u001b[0;32m      2\u001b[0m file \u001b[38;5;241m=\u001b[39m \u001b[38;5;28mopen\u001b[39m(\u001b[38;5;124m\"\u001b[39m\u001b[38;5;124mtest\u001b[39m\u001b[38;5;124m\"\u001b[39m,\u001b[38;5;124m\"\u001b[39m\u001b[38;5;124mr\u001b[39m\u001b[38;5;124m\"\u001b[39m)\n\u001b[0;32m      3\u001b[0m f\u001b[38;5;241m=\u001b[39mfile\u001b[38;5;241m.\u001b[39mreadlines() \u001b[38;5;66;03m#to print more than 1 line we assign readline value in variable now we print variable multiple times\u001b[39;00m\n\u001b[1;32m----> 4\u001b[0m \u001b[38;5;28mprint\u001b[39m(\u001b[43mf\u001b[49m\u001b[43m[\u001b[49m\u001b[38;5;241;43m2\u001b[39;49m\u001b[43m]\u001b[49m)\n\u001b[0;32m      5\u001b[0m \u001b[38;5;28mprint\u001b[39m(f[\u001b[38;5;241m1\u001b[39m])\n\u001b[0;32m      6\u001b[0m file\u001b[38;5;241m.\u001b[39mclose()\n",
      "\u001b[1;31mIndexError\u001b[0m: list index out of range"
     ]
    }
   ],
   "source": []
  },
  {
   "cell_type": "code",
   "execution_count": 1,
   "metadata": {},
   "outputs": [
    {
     "ename": "TypeError",
     "evalue": "'>=' not supported between instances of 'builtin_function_or_method' and 'int'",
     "output_type": "error",
     "traceback": [
      "\u001b[1;31m---------------------------------------------------------------------------\u001b[0m",
      "\u001b[1;31mTypeError\u001b[0m                                 Traceback (most recent call last)",
      "Cell \u001b[1;32mIn[1], line 5\u001b[0m\n\u001b[0;32m      3\u001b[0m \u001b[38;5;28;01mfor\u001b[39;00m i \u001b[38;5;129;01min\u001b[39;00m f:\n\u001b[0;32m      4\u001b[0m     \u001b[38;5;28;01mfor\u001b[39;00m j \u001b[38;5;129;01min\u001b[39;00m i\u001b[38;5;241m.\u001b[39msplit():\n\u001b[1;32m----> 5\u001b[0m         \u001b[38;5;28;01mif\u001b[39;00m \u001b[38;5;28;43mlen\u001b[39;49m\u001b[38;5;241;43m>\u001b[39;49m\u001b[38;5;241;43m=\u001b[39;49m\u001b[38;5;241;43m6\u001b[39;49m:\n\u001b[0;32m      6\u001b[0m             \u001b[38;5;28mprint\u001b[39m(j)\n",
      "\u001b[1;31mTypeError\u001b[0m: '>=' not supported between instances of 'builtin_function_or_method' and 'int'"
     ]
    }
   ],
   "source": [
    "file= open(\"text\", \"r\")\n",
    "f=file.readlines()\n",
    "for i in f:\n",
    "    for j in i.split():\n",
    "        if len>=6:\n",
    "            print(j)"
   ]
  },
  {
   "cell_type": "code",
   "execution_count": null,
   "metadata": {},
   "outputs": [],
   "source": []
  }
 ],
 "metadata": {
  "kernelspec": {
   "display_name": "Python 3",
   "language": "python",
   "name": "python3"
  },
  "language_info": {
   "codemirror_mode": {
    "name": "ipython",
    "version": 3
   },
   "file_extension": ".py",
   "mimetype": "text/x-python",
   "name": "python",
   "nbconvert_exporter": "python",
   "pygments_lexer": "ipython3",
   "version": "3.12.4"
  }
 },
 "nbformat": 4,
 "nbformat_minor": 2
}
