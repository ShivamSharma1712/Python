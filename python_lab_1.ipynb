{
 "cells": [
  {
   "cell_type": "code",
   "execution_count": null,
   "metadata": {},
   "outputs": [
    {
     "name": "stdout",
     "output_type": "stream",
     "text": [
      "5\n",
      "5\n",
      "True\n",
      "<class 'int'>\n",
      "1\n",
      "13\n",
      "5\n",
      "x is bool\n"
     ]
    }
   ],
   "source": [
    "# Q1. WAP to demonstrate type checking and built in functions in python\n",
    "# Absolute value of a number\n",
    "print(abs(-5))  # Output: 5\n",
    "\n",
    "# Rounding a number\n",
    "print(round(4.7))  # Output: 5\n",
    "\n",
    "# Check if a string is alphanumeric\n",
    "print(\"Hello123\".isalnum())  # Output: True\n",
    "\n",
    "# Get the type of a variable\n",
    "x = 10\n",
    "print(type(x))  # Output: <class 'int'>\n",
    "\n",
    "# Find the minimum value in a list\n",
    "print(min(3, 1, 4, 2))  # Output: 1\n",
    "\n",
    "# Get the length of a string\n",
    "my_string = \"Hello, World!\"\n",
    "print(len(my_string))  # Output: 13\n",
    "\n",
    "# Get the length of a list\n",
    "my_list = [1, 2, 3, 4, 5]\n",
    "print(len(my_list))  # Output: 5\n",
    "\n",
    "# for type checking\n",
    "x= True\n",
    "if type==float:\n",
    "    print(\"x is float\")\n",
    "elif type==int:\n",
    "    print(\"x is int\")\n",
    "elif type==str:\n",
    "    print(\"x is string\")\n",
    "else:\n",
    "    print(\"x is bool\")\n"
   ]
  },
  {
   "cell_type": "code",
   "execution_count": null,
   "metadata": {},
   "outputs": [
    {
     "name": "stdout",
     "output_type": "stream",
     "text": [
      "Iterating over a list:\n",
      "List item: 10\n",
      "List item: 20\n",
      "List item: 30\n",
      "List item: 40\n",
      "List item: 50\n",
      "Iterating over a dictionary:\n",
      "Dictionary key: Name, value: Rahul\n",
      "Dictionary key: Age, value: 25\n",
      "Dictionary key: Country, value: India\n"
     ]
    }
   ],
   "source": [
    "# Q2. WAP to illustrate iteration over the list and dictionary\n",
    "\n",
    "# Iterating over a list:\n",
    "print('Iterating over a list:')\n",
    "my_list = [10, 20, 30, 40, 50]\n",
    "for i in my_list:\n",
    "    print(\"List item:\", i)\n",
    "\n",
    "# Iterating over a dictionary:\n",
    "print('Iterating over a dictionary:')\n",
    "my_dictionary = {\"Name\": 'Rahul', \"Age\": 25, \"Country\": 'India'}\n",
    "for key, value in my_dictionary.items():\n",
    "    print(f'Dictionary key: {key}, value: {value}')\n",
    "\n"
   ]
  },
  {
   "cell_type": "code",
   "execution_count": 12,
   "metadata": {},
   "outputs": [
    {
     "name": "stdout",
     "output_type": "stream",
     "text": [
      "Number of alphabets in the string are: 20\n",
      "Extracted characters: ome to pyth\n",
      "It is not an alphanumeric string\n"
     ]
    }
   ],
   "source": [
    "# Q3. consider the string ' welcome to python world' and perform folowing sting operations\n",
    "# 1 count number of alphabets in the string\n",
    "# 2. extract characters in the given range from the string\n",
    "# 3. check if the string is alphanumeric or not:\n",
    "\n",
    "s = 'welcome to python world'\n",
    "\n",
    "# 1. Count the number of alphabets in the string\n",
    "count = 0\n",
    "for i in s:\n",
    "    if i.isalpha():\n",
    "        count += 1\n",
    "print('Number of alphabets in the string are:', count)\n",
    "\n",
    "# 2. Extract characters in the given range from the string (e.g., indices 4 to 15)\n",
    "print('Extracted characters:', s[4:15])  \n",
    "\n",
    "# 3. Check if the string is alphanumeric or not\n",
    "if s.isalnum():  \n",
    "    print(\"It is an alphanumeric string\")\n",
    "else:\n",
    "    print(\"It is not an alphanumeric string\")\n"
   ]
  },
  {
   "cell_type": "code",
   "execution_count": null,
   "metadata": {},
   "outputs": [
    {
     "name": "stdout",
     "output_type": "stream",
     "text": [
      "Linear search: Element found at index: 1\n",
      "Binary search: Element found at index: 1\n"
     ]
    }
   ],
   "source": [
    "# Q4. WAP to perform searching activity using linear and binary search\n",
    "# Linear Search:\n",
    "def linear_search(arr, x):\n",
    "    for i in range(len(arr)):\n",
    "        if arr[i] == x:\n",
    "            return i\n",
    "    return -1  # Move this outside the loop\n",
    "\n",
    "# Binary Search:\n",
    "def binary_search(arr, x):\n",
    "    low, high = 0, len(arr) - 1\n",
    "    while low <= high:\n",
    "        mid = (low + high) // 2\n",
    "        if arr[mid] == x:\n",
    "            return mid\n",
    "        elif arr[mid] < x:\n",
    "            low = mid + 1\n",
    "        else:\n",
    "            high = mid - 1\n",
    "    return -1  # Move this outside the loop\n",
    "\n",
    "# Getting input from the user:\n",
    "arr = list(map(int, input('Enter sorted numbers separated by space: ').split()))\n",
    "x = int(input('Enter the number to be searched: '))\n",
    "\n",
    "# Run Linear Search:\n",
    "linear_result = linear_search(arr, x)\n",
    "if linear_result != -1:\n",
    "    print(\"Linear search: Element found at index:\", linear_result)\n",
    "else:\n",
    "    print(\"Linear search: Element not found\")\n",
    "\n",
    "# Run Binary Search:\n",
    "binary_result = binary_search(arr, x)\n",
    "if binary_result != -1:\n",
    "    print(\"Binary search: Element found at index:\", binary_result)\n",
    "else:\n",
    "    print(\"Binary search: Element not found\")\n"
   ]
  },
  {
   "cell_type": "code",
   "execution_count": 1,
   "metadata": {},
   "outputs": [
    {
     "name": "stdout",
     "output_type": "stream",
     "text": [
      "Enter row: 2\n",
      "[[1, 2, 3], [6, 5, 4], [7, 8, 9], [10, 11, 12]]\n"
     ]
    }
   ],
   "source": [
    "# Q5. WAP to reverse every kth row in a matrix\n",
    "matrix =[\n",
    "    [1,2,3],\n",
    "    [4,5,6],\n",
    "    [7,8,9],\n",
    "    [10,11,12]\n",
    "]\n",
    "k = int(input('Enter the row you want to reverse:'))\n",
    "print('Enter row:', k)\n",
    "k-=1\n",
    "for i in range(0,len(matrix)):\n",
    "    if(k==i):\n",
    "        matrix[k]=matrix[k][::-1]\n",
    "        print(matrix)"
   ]
  },
  {
   "cell_type": "code",
   "execution_count": 2,
   "metadata": {},
   "outputs": [
    {
     "name": "stdout",
     "output_type": "stream",
     "text": [
      "[{'id': '146', 'name': 'shivam', 'age': 22, 'grade': 'A'}, {'id': '136', 'name': 'Ansh', 'age': 21, 'grade': 'B'}]\n"
     ]
    }
   ],
   "source": [
    "# Q6. WAP to create a list of students snd search using dictionary\n",
    "def student_records():\n",
    "    students = []  # List to store student dictionaries\n",
    "    n = int(input(\"Enter the number of students: \"))\n",
    "\n",
    "    for i in range(n):\n",
    "        student = {}  # Create a new dictionary for each student\n",
    "        student['id'] = input(f\"Enter ID for student {i + 1}: \")\n",
    "        student['name'] = input(f\"Enter name for student {i + 1}: \")\n",
    "        student['age'] = int(input(f\"Enter age for student {i + 1}: \"))\n",
    "        student['grade'] = input(f\"Enter grade for student {i + 1}: \")\n",
    "\n",
    "        students.append(student)\n",
    "\n",
    "    return students\n",
    "\n",
    "# Call the function\n",
    "print(student_records())"
   ]
  }
 ],
 "metadata": {
  "kernelspec": {
   "display_name": "Python 3",
   "language": "python",
   "name": "python3"
  },
  "language_info": {
   "codemirror_mode": {
    "name": "ipython",
    "version": 3
   },
   "file_extension": ".py",
   "mimetype": "text/x-python",
   "name": "python",
   "nbconvert_exporter": "python",
   "pygments_lexer": "ipython3",
   "version": "3.12.4"
  }
 },
 "nbformat": 4,
 "nbformat_minor": 2
}
